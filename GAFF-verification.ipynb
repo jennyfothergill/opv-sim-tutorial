{
 "cells": [
  {
   "cell_type": "markdown",
   "metadata": {},
   "source": [
    "# GAFF verification\n",
    "This notebook is to compare a P3HT polymer typed with antechamber to one typed using antefoyer and GAFF-foyer. The file P3HT_16_typed.mol2 was typed with antechamber. The untyped structure is in P3HT_16.mol2."
   ]
  },
  {
   "cell_type": "code",
   "execution_count": 6,
   "metadata": {},
   "outputs": [],
   "source": [
    "import numpy as np\n",
    "import mbuild as mb\n",
    "import parmed as pmd\n",
    "import foyer\n",
    "import hoomd\n",
    "import warnings\n",
    "\n",
    "warnings.simplefilter(\"ignore\")"
   ]
  },
  {
   "cell_type": "code",
   "execution_count": 2,
   "metadata": {},
   "outputs": [],
   "source": [
    "compound = mb.load(\"P3HT_16.mol2\")\n",
    "\n",
    "#pmd_structure = compound.to_parmed() # this step isn't necessary?\n",
    "#compound.visualize().show()"
   ]
  },
  {
   "cell_type": "code",
   "execution_count": 3,
   "metadata": {},
   "outputs": [],
   "source": [
    "# Load GAFF\n",
    "#GAFF = foyer.forcefields.load_GAFF()\n",
    "\n",
    "# Use foyer to parameterize\n",
    "#parameterized_structure = GAFF.apply(pmd_structure, assert_dihedral_params=False)"
   ]
  },
  {
   "cell_type": "code",
   "execution_count": 4,
   "metadata": {},
   "outputs": [
    {
     "name": "stderr",
     "output_type": "stream",
     "text": [
      "/Users/jenny/miniconda3/envs/antefoyer/lib/python3.7/site-packages/foyer/validator.py:132: ValidationWarning: You have empty smart definition(s)\n",
      "  warn(\"You have empty smart definition(s)\", ValidationWarning)\n",
      "/Users/jenny/miniconda3/envs/antefoyer/lib/python3.7/site-packages/mbuild/compound.py:2443: UserWarning: Guessing that \"<C1 pos=(-0.0279, 0.0362,-0.0536), 0 bonds, id: 4849349584>\" is element: \"C\"\n",
      "  atom, element))\n",
      "/Users/jenny/miniconda3/envs/antefoyer/lib/python3.7/site-packages/mbuild/compound.py:2443: UserWarning: Guessing that \"<S5 pos=(-0.0831, 0.1616, 0.0422), 0 bonds, id: 4849346384>\" is element: \"S\"\n",
      "  atom, element))\n",
      "/Users/jenny/miniconda3/envs/antefoyer/lib/python3.7/site-packages/mbuild/compound.py:2443: UserWarning: Guessing that \"<H6 pos=(-0.0942,-0.0386,-0.0966), 0 bonds, id: 4890771856>\" is element: \"H\"\n",
      "  atom, element))\n",
      "/Users/jenny/miniconda3/envs/antefoyer/lib/python3.7/site-packages/foyer/forcefield.py:248: UserWarning: Parameters have not been assigned to all proper dihedrals. Total system dihedrals: 1132, Parameterized dihedrals: 1068. Note that if your system contains torsions of Ryckaert-Bellemans functional form, all of these torsions are processed as propers.\n",
      "  warnings.warn(msg)\n",
      "/Users/jenny/miniconda3/envs/antefoyer/lib/python3.7/site-packages/foyer/forcefield.py:248: UserWarning: Parameters have not been assigned to all impropers. Total system impropers: 448, Parameterized impropers: 0. Note that if your system contains torsions of Ryckaert-Bellemans functional form, all of these torsions are processed as propers\n",
      "  warnings.warn(msg)\n"
     ]
    }
   ],
   "source": [
    "# Load GAFF\n",
    "GAFF = foyer.forcefields.load_GAFF()\n",
    "\n",
    "# Use foyer to parameterize\n",
    "parameterized_structure = GAFF.apply(compound, assert_dihedral_params=False)"
   ]
  },
  {
   "cell_type": "code",
   "execution_count": 5,
   "metadata": {},
   "outputs": [],
   "source": [
    "#[atom.type for atom in parameterized_structure.atoms]"
   ]
  },
  {
   "cell_type": "code",
   "execution_count": 6,
   "metadata": {},
   "outputs": [],
   "source": [
    "# The typing doesn't get saved to the mbuild compound when loaded from a typed file,\n",
    "# so reading the typed atoms from the file is a workaround\n",
    "# the type will be stored in column 5\n",
    "\n",
    "#typed_compound = mb.load(\"P3HT_16_typed.mol2\")\n",
    "#typed_structure= compound.to_parmed()\n",
    "\n",
    "typed_atoms = []\n",
    "read = False\n",
    "with open(\"P3HT_16_typed.mol2\", \"r\") as f:\n",
    "    for i,line in enumerate(f.readlines()):\n",
    "        if line[0] == \"@\" and not \"ATOM\" in line:\n",
    "            read = False\n",
    "        if read:\n",
    "            typed_atoms.append(line.split())\n",
    "        if line[0] == \"@\" and \"ATOM\" in line:\n",
    "            read = True"
   ]
  },
  {
   "cell_type": "code",
   "execution_count": 7,
   "metadata": {},
   "outputs": [
    {
     "name": "stdout",
     "output_type": "stream",
     "text": [
      "{('cd', 'cc_r5'), ('cc', 'cc_r5')}\n"
     ]
    }
   ],
   "source": [
    "# which atoms are different?\n",
    "# looks like cc and cd, which we knew about.\n",
    "diff_list = [\n",
    "    (atom_antechamber[5], atom_foyer.type) for atom_antechamber, atom_foyer\n",
    "    in zip(typed_atoms, parameterized_structure.atoms) \n",
    "    if atom_foyer.type != atom_antechamber[5]\n",
    "]\n",
    "\n",
    "print(set(diff_list))"
   ]
  },
  {
   "cell_type": "markdown",
   "metadata": {},
   "source": [
    "Types mostly verified, now to set up simulation."
   ]
  },
  {
   "cell_type": "code",
   "execution_count": 5,
   "metadata": {},
   "outputs": [],
   "source": [
    "# why doesn't this work?\n",
    "import mbuild as mb\n",
    "import foyer\n",
    "import warnings\n",
    "\n",
    "warnings.simplefilter(\"ignore\")\n",
    "\n",
    "compound = mb.load(\"P3HT_16.mol2\")\n",
    "\n",
    "# Load GAFF\n",
    "GAFF = foyer.forcefields.load_GAFF()\n",
    "\n",
    "# Use foyer to parameterize\n",
    "parameterized_structure = GAFF.apply(compound, assert_dihedral_params=False)\n",
    "\n",
    "typed_compound = mb.Compound()\n",
    "typed_compound.from_parmed(parameterized_structure)\n",
    "#print([p.name for p in typed_compound.particles()])\n",
    "\n",
    "# this would be nice when we have large systems--type one compound."
   ]
  },
  {
   "cell_type": "code",
   "execution_count": 9,
   "metadata": {},
   "outputs": [],
   "source": [
    "# Instead we rename them manually\n",
    "for atom_pmd, atom_mb in zip(parameterized_structure, compound):\n",
    "    atom_mb.name = atom_pmd.type\n",
    "#print(set([p.name for p in compound.particles()]))"
   ]
  },
  {
   "cell_type": "code",
   "execution_count": 10,
   "metadata": {},
   "outputs": [
    {
     "name": "stdout",
     "output_type": "stream",
     "text": [
      "compound bond 0.1070\n",
      "pmd bond 1.3772\n"
     ]
    }
   ],
   "source": [
    "# I am getting errors from filling the box, so I want to determine whether my positions\n",
    "# have been scaled. The first bond happens to be a C-C single bond which on average is \n",
    "# about 1.54 A or 0.154 nm\n",
    "first_bond = [b for b in compound.bonds()][0]\n",
    "pmd_bond = parameterized_structure.bonds[0]\n",
    "print(f\"compound bond {np.linalg.norm(first_bond[0].pos-first_bond[1].pos):.4f}\")\n",
    "print(f\"pmd bond {pmd_bond.measure():.4f}\")\n",
    "# Looks like units are in nm in mbuild (was the mol2 in nm?)\n",
    "# but are scaled in parmed."
   ]
  },
  {
   "cell_type": "code",
   "execution_count": 12,
   "metadata": {},
   "outputs": [],
   "source": [
    "gaff_colors = {\n",
    "    \"cc_r5\": \"brown\",\n",
    "    \"ss\": \"yellow\",\n",
    "    \"h4\": \"white\",\n",
    "    \"ha\": \"tan\",\n",
    "    \"c3\": \"grey\",\n",
    "    \"hc\": \"black\"\n",
    "}\n",
    "# why don't the colors work?\n",
    "\n",
    "#compound = mb.load(\"P3HT_16.mol2\")\n",
    "#box = mb.Box([10,10,10])\n",
    "#system_box = mb.packing.fill_box(compound, 10, box=box)\n",
    "#system_box.visualize(color_scheme=gaff_colors).show()\n",
    "#set([p.name for p in system_box.particles()])"
   ]
  },
  {
   "cell_type": "markdown",
   "metadata": {},
   "source": [
    "## Simulation setup starts here"
   ]
  },
  {
   "cell_type": "code",
   "execution_count": 13,
   "metadata": {},
   "outputs": [],
   "source": [
    "import numpy as np\n",
    "import mbuild as mb\n",
    "import parmed as pmd\n",
    "import foyer\n",
    "import hoomd\n",
    "from mbuild.formats.hoomd_simulation import create_hoomd_simulation\n",
    "import hoomd.md\n",
    "import hoomd.group"
   ]
  },
  {
   "cell_type": "code",
   "execution_count": 14,
   "metadata": {},
   "outputs": [
    {
     "name": "stderr",
     "output_type": "stream",
     "text": [
      "/Users/jenny/miniconda3/envs/antefoyer/lib/python3.7/site-packages/mbuild/compound.py:2443: UserWarning: Guessing that \"<C1 pos=(-0.0279, 0.0362,-0.0536), 0 bonds, id: 4538302608>\" is element: \"C\"\n",
      "  atom, element))\n",
      "/Users/jenny/miniconda3/envs/antefoyer/lib/python3.7/site-packages/mbuild/compound.py:2443: UserWarning: Guessing that \"<S5 pos=(-0.0831, 0.1616, 0.0422), 0 bonds, id: 4914460432>\" is element: \"S\"\n",
      "  atom, element))\n",
      "/Users/jenny/miniconda3/envs/antefoyer/lib/python3.7/site-packages/mbuild/compound.py:2443: UserWarning: Guessing that \"<H6 pos=(-0.0942,-0.0386,-0.0966), 0 bonds, id: 4914400336>\" is element: \"H\"\n",
      "  atom, element))\n"
     ]
    }
   ],
   "source": [
    "compound = mb.load(\"P3HT_16.mol2\")\n",
    "box = mb.Box([10,10,10])\n",
    "system_box = mb.packing.fill_box(compound, 10, box=box)"
   ]
  },
  {
   "cell_type": "code",
   "execution_count": 15,
   "metadata": {},
   "outputs": [
    {
     "name": "stderr",
     "output_type": "stream",
     "text": [
      "/Users/jenny/miniconda3/envs/antefoyer/lib/python3.7/site-packages/mbuild/compound.py:2443: UserWarning: Guessing that \"<C1 pos=( 8.1870, 8.1958, 9.1423), 0 bonds, id: 4916141776>\" is element: \"C\"\n",
      "  atom, element))\n",
      "/Users/jenny/miniconda3/envs/antefoyer/lib/python3.7/site-packages/mbuild/compound.py:2443: UserWarning: Guessing that \"<S5 pos=( 8.0780, 8.0936, 9.0673), 0 bonds, id: 4916141264>\" is element: \"S\"\n",
      "  atom, element))\n",
      "/Users/jenny/miniconda3/envs/antefoyer/lib/python3.7/site-packages/mbuild/compound.py:2443: UserWarning: Guessing that \"<H6 pos=( 8.1769, 8.3041, 9.1407), 0 bonds, id: 4916141968>\" is element: \"H\"\n",
      "  atom, element))\n",
      "/Users/jenny/miniconda3/envs/antefoyer/lib/python3.7/site-packages/foyer/forcefield.py:248: UserWarning: Parameters have not been assigned to all proper dihedrals. Total system dihedrals: 11320, Parameterized dihedrals: 10680. Note that if your system contains torsions of Ryckaert-Bellemans functional form, all of these torsions are processed as propers.\n",
      "  warnings.warn(msg)\n",
      "/Users/jenny/miniconda3/envs/antefoyer/lib/python3.7/site-packages/foyer/forcefield.py:248: UserWarning: Parameters have not been assigned to all impropers. Total system impropers: 4480, Parameterized impropers: 0. Note that if your system contains torsions of Ryckaert-Bellemans functional form, all of these torsions are processed as propers\n",
      "  warnings.warn(msg)\n"
     ]
    }
   ],
   "source": [
    "#system_box_pmd = system_box.to_parmed(box=box) # maybe this step is not necessary.\n",
    "GAFF = foyer.forcefields.load_GAFF()\n",
    "struc = GAFF.apply(system_box, assert_dihedral_params=False)"
   ]
  },
  {
   "cell_type": "code",
   "execution_count": 4,
   "metadata": {},
   "outputs": [],
   "source": [
    "#struc.omm_angle_force()"
   ]
  },
  {
   "cell_type": "code",
   "execution_count": 5,
   "metadata": {},
   "outputs": [
    {
     "name": "stdout",
     "output_type": "stream",
     "text": [
      "HOOMD-blue 2.9.0 DOUBLE HPMC_MIXED TBB SSE SSE2 SSE3 \n",
      "Compiled: 02/04/2020\n",
      "Copyright (c) 2009-2019 The Regents of the University of Michigan.\n",
      "-----\n",
      "You are using HOOMD-blue. Please cite the following:\n",
      "* J A Anderson, C D Lorenz, and A Travesset. \"General purpose molecular dynamics\n",
      "  simulations fully implemented on graphics processing units\", Journal of\n",
      "  Computational Physics 227 (2008) 5342--5359\n",
      "* J Glaser, T D Nguyen, J A Anderson, P Lui, F Spiga, J A Millan, D C Morse, and\n",
      "  S C Glotzer. \"Strong scaling of general-purpose molecular dynamics simulations\n",
      "  on GPUs\", Computer Physics Communications 192 (2015) 97--107\n",
      "-----\n",
      "HOOMD-blue is running on the CPU\n",
      "notice(2): Group \"all\" created containing 4020 particles\n",
      "notice(2): -- Neighborlist exclusion statistics -- :\n",
      "notice(2): Particles with 3 exclusions             : 180\n",
      "notice(2): Particles with 4 exclusions             : 2080\n",
      "notice(2): Particles with 6 exclusions             : 180\n",
      "notice(2): Particles with 7 exclusions             : 320\n",
      "notice(2): Particles with 8 exclusions             : 300\n",
      "notice(2): Particles with 9 exclusions             : 160\n",
      "notice(2): Particles with 10 exclusions             : 800\n",
      "notice(2): Neighbors included by diameter          : no\n",
      "notice(2): Neighbors excluded when in the same body: no\n",
      "Processing LJ and QQ\n",
      "notice(2): Group \"charged\" created containing 0 particles\n",
      "No charged groups found, ignoring electrostatics\n",
      "Processing 1-4 interactions, adjusting neighborlist exclusions\n",
      "Processing harmonic bonds\n",
      "Processing harmonic angles\n",
      "Processing periodic torsions\n",
      "HOOMD SimulationContext updated from ParmEd Structure\n",
      "** starting run **\n",
      "Time 00:00:10 | Step 2766 / 100000 | TPS 276.59 | ETA 00:05:51\n",
      "Time 00:00:20 | Step 5784 / 100000 | TPS 301.732 | ETA 00:05:12\n",
      "Time 00:00:30 | Step 8799 / 100000 | TPS 301.482 | ETA 00:05:02\n",
      "Time 00:00:40 | Step 11790 / 100000 | TPS 299.055 | ETA 00:04:54\n",
      "Time 00:00:50 | Step 14809 / 100000 | TPS 301.879 | ETA 00:04:42\n",
      "Time 00:01:00 | Step 17814 / 100000 | TPS 300.469 | ETA 00:04:33\n",
      "Time 00:01:10 | Step 20835 / 100000 | TPS 302.043 | ETA 00:04:22\n",
      "Time 00:01:20 | Step 23825 / 100000 | TPS 298.921 | ETA 00:04:14\n",
      "Time 00:01:30 | Step 26727 / 100000 | TPS 290.146 | ETA 00:04:12\n",
      "Time 00:01:40 | Step 29737 / 100000 | TPS 300.948 | ETA 00:03:53\n",
      "Time 00:01:50 | Step 32760 / 100000 | TPS 302.212 | ETA 00:03:42\n",
      "Time 00:02:00 | Step 35786 / 100000 | TPS 302.582 | ETA 00:03:32\n",
      "Time 00:02:10 | Step 38804 / 100000 | TPS 301.716 | ETA 00:03:22\n",
      "Time 00:02:20 | Step 41841 / 100000 | TPS 303.649 | ETA 00:03:11\n",
      "Time 00:02:30 | Step 44838 / 100000 | TPS 299.625 | ETA 00:03:04\n",
      "Time 00:02:40 | Step 47855 / 100000 | TPS 301.613 | ETA 00:02:52\n",
      "Time 00:02:50 | Step 50862 / 100000 | TPS 300.68 | ETA 00:02:43\n",
      "Time 00:03:00 | Step 53817 / 100000 | TPS 295.45 | ETA 00:02:36\n",
      "Time 00:03:10 | Step 56816 / 100000 | TPS 299.894 | ETA 00:02:23\n",
      "Time 00:03:20 | Step 59650 / 100000 | TPS 283.321 | ETA 00:02:22\n",
      "Time 00:03:30 | Step 62605 / 100000 | TPS 295.418 | ETA 00:02:06\n",
      "Time 00:03:40 | Step 65544 / 100000 | TPS 293.828 | ETA 00:01:57\n",
      "Time 00:03:50 | Step 68508 / 100000 | TPS 296.346 | ETA 00:01:46\n",
      "Time 00:04:00 | Step 71466 / 100000 | TPS 295.745 | ETA 00:01:36\n",
      "Time 00:04:10 | Step 74426 / 100000 | TPS 295.916 | ETA 00:01:26\n",
      "Time 00:04:20 | Step 77364 / 100000 | TPS 293.763 | ETA 00:01:17\n",
      "Time 00:04:30 | Step 80271 / 100000 | TPS 290.623 | ETA 00:01:07\n",
      "Time 00:04:40 | Step 83230 / 100000 | TPS 295.785 | ETA 00:00:56\n",
      "Time 00:04:50 | Step 86224 / 100000 | TPS 299.369 | ETA 00:00:46\n",
      "Time 00:05:00 | Step 89202 / 100000 | TPS 297.763 | ETA 00:00:36\n",
      "Time 00:05:10 | Step 92183 / 100000 | TPS 298.005 | ETA 00:00:26\n",
      "Time 00:05:20 | Step 95182 / 100000 | TPS 299.813 | ETA 00:00:16\n",
      "Time 00:05:30 | Step 98162 / 100000 | TPS 297.934 | ETA 00:00:06\n",
      "Time 00:05:36 | Step 100000 / 100000 | TPS 296.9 | ETA 00:00:00\n",
      "Average TPS: 297.393\n",
      "---------\n",
      "-- Neighborlist stats:\n",
      "26 normal updates / 1000 forced updates / 0 dangerous updates\n",
      "n_neigh_min: 0 / n_neigh_max: 36 / n_neigh_avg: 10.0201\n",
      "shortest rebuild period: 55\n",
      "-- Cell list stats:\n",
      "Dimension: 17, 17, 17\n",
      "n_min    : 0 / n_max: 21 / n_avg: 0.818237\n",
      "** run complete **\n"
     ]
    }
   ],
   "source": [
    "create_hoomd_simulation(struc, r_cut=1.2, auto_scale=True)\n",
    "\n",
    "_all = hoomd.group.all()\n",
    "hoomd.md.integrate.mode_standard(dt=0.0001)\n",
    "integrator = hoomd.md.integrate.nvt(group=_all, kT=1.0, tau=1)\n",
    "hoomd.dump.gsd(\"start.gsd\", period=None, group=_all, overwrite=True)\n",
    "hoomd.dump.gsd(\"traj.gsd\", period=1e4, group=_all, phase=0, overwrite=True)\n",
    "\n",
    "hoomd.run(1e5)\n",
    "hoomd.dump.gsd(\"out.gsd\", period=None, group=_all, overwrite=True);"
   ]
  },
  {
   "cell_type": "code",
   "execution_count": 16,
   "metadata": {},
   "outputs": [],
   "source": [
    "from utils.cg_utils import gsd_rdf\n",
    "import matplotlib.pyplot as plt"
   ]
  },
  {
   "cell_type": "code",
   "execution_count": 17,
   "metadata": {},
   "outputs": [
    {
     "data": {
      "image/png": "[encoded data removed]",
      "text/plain": [
       "<Figure size 432x288 with 1 Axes>"
      ]
     },
     "metadata": {
      "needs_background": "light"
     },
     "output_type": "display_data"
    }
   ],
   "source": [
    "rdf = gsd_rdf(\"traj.gsd\", \"ss\", \"ss\", start=-10)\n",
    "plt.plot(rdf.bin_centers, rdf.rdf)\n",
    "plt.xlabel(\"r (nm)\")\n",
    "plt.ylabel(\"g(r)\")\n",
    "plt.show()"
   ]
  },
  {
   "cell_type": "code",
   "execution_count": null,
   "metadata": {},
   "outputs": [],
   "source": []
  }
 ],
 "metadata": {
  "kernelspec": {
   "display_name": "Python 3",
   "language": "python",
   "name": "python3"
  },
  "language_info": {
   "codemirror_mode": {
    "name": "ipython",
    "version": 3
   },
   "file_extension": ".py",
   "mimetype": "text/x-python",
   "name": "python",
   "nbconvert_exporter": "python",
   "pygments_lexer": "ipython3",
   "version": "3.7.6"
  }
 },
 "nbformat": 4,
 "nbformat_minor": 4
}
