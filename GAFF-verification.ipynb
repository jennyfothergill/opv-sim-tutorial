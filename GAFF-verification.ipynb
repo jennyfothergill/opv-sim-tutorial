{
 "cells": [
  {
   "cell_type": "markdown",
   "metadata": {},
   "source": [
    "# GAFF verification\n",
    "This notebook is to compare a P3HT polymer typed with antechamber to one typed using antefoyer and GAFF-foyer. The file P3HT_16_typed.mol2 was typed with antechamber. The untyped structure is in P3HT_16.mol2."
   ]
  },
  {
   "cell_type": "code",
   "execution_count": 1,
   "metadata": {},
   "outputs": [
    {
     "name": "stderr",
     "output_type": "stream",
     "text": [
      "/Users/jenny/miniconda3/envs/antefoyer/lib/python3.7/site-packages/hoomd/meta.py:26: DeprecationWarning: Using or importing the ABCs from 'collections' instead of from 'collections.abc' is deprecated since Python 3.3,and in 3.9 it will stop working\n",
      "  from collections import Mapping\n"
     ]
    }
   ],
   "source": [
    "import foyer\n",
    "import mbuild as mb\n",
    "import parmed as pmd\n",
    "import hoomd\n",
    "import numpy as np"
   ]
  },
  {
   "cell_type": "code",
   "execution_count": 2,
   "metadata": {},
   "outputs": [
    {
     "name": "stderr",
     "output_type": "stream",
     "text": [
      "/Users/jenny/miniconda3/envs/antefoyer/lib/python3.7/site-packages/mbuild/compound.py:2443: UserWarning: Guessing that \"<C1 pos=(-0.0279, 0.0362,-0.0536), 0 bonds, id: 4798865808>\" is element: \"C\"\n",
      "  atom, element))\n",
      "/Users/jenny/miniconda3/envs/antefoyer/lib/python3.7/site-packages/mbuild/compound.py:2443: UserWarning: Guessing that \"<S5 pos=(-0.0831, 0.1616, 0.0422), 0 bonds, id: 4798852432>\" is element: \"S\"\n",
      "  atom, element))\n",
      "/Users/jenny/miniconda3/envs/antefoyer/lib/python3.7/site-packages/mbuild/compound.py:2443: UserWarning: Guessing that \"<H6 pos=(-0.0942,-0.0386,-0.0966), 0 bonds, id: 4838045072>\" is element: \"H\"\n",
      "  atom, element))\n"
     ]
    }
   ],
   "source": [
    "compound = mb.load(\"P3HT_16.mol2\")\n",
    "\n",
    "pmd_structure = compound.to_parmed()\n",
    "#compound.visualize().show()"
   ]
  },
  {
   "cell_type": "code",
   "execution_count": 3,
   "metadata": {},
   "outputs": [
    {
     "name": "stderr",
     "output_type": "stream",
     "text": [
      "/Users/jenny/miniconda3/envs/antefoyer/lib/python3.7/site-packages/foyer/validator.py:132: ValidationWarning: You have empty smart definition(s)\n",
      "  warn(\"You have empty smart definition(s)\", ValidationWarning)\n",
      "/Users/jenny/miniconda3/envs/antefoyer/lib/python3.7/site-packages/foyer/forcefield.py:248: UserWarning: Parameters have not been assigned to all proper dihedrals. Total system dihedrals: 1132, Parameterized dihedrals: 1068. Note that if your system contains torsions of Ryckaert-Bellemans functional form, all of these torsions are processed as propers.\n",
      "  warnings.warn(msg)\n",
      "/Users/jenny/miniconda3/envs/antefoyer/lib/python3.7/site-packages/foyer/forcefield.py:248: UserWarning: Parameters have not been assigned to all impropers. Total system impropers: 448, Parameterized impropers: 0. Note that if your system contains torsions of Ryckaert-Bellemans functional form, all of these torsions are processed as propers\n",
      "  warnings.warn(msg)\n"
     ]
    }
   ],
   "source": [
    "# Load GAFF\n",
    "GAFF = foyer.forcefields.load_GAFF()\n",
    "\n",
    "# Use foyer to parameterize\n",
    "parameterized_structure = GAFF.apply(pmd_structure, assert_dihedral_params=False)"
   ]
  },
  {
   "cell_type": "code",
   "execution_count": 4,
   "metadata": {},
   "outputs": [],
   "source": [
    "# The typing doesn't get saved to the mbuild compound,\n",
    "# so reading the file is a workaround\n",
    "# the type will be stored in column 5\n",
    "\n",
    "#typed_compound = mb.load(\"P3HT_16_typed.mol2\")\n",
    "#typed_structure= compound.to_parmed()\n",
    "\n",
    "typed_atoms = []\n",
    "read = False\n",
    "with open(\"P3HT_16_typed.mol2\", \"r\") as f:\n",
    "    for i,line in enumerate(f.readlines()):\n",
    "        if line[0] == \"@\" and not \"ATOM\" in line:\n",
    "            read = False\n",
    "        if read:\n",
    "            typed_atoms.append(line.split())\n",
    "        if line[0] == \"@\" and \"ATOM\" in line:\n",
    "            read = True"
   ]
  },
  {
   "cell_type": "code",
   "execution_count": 5,
   "metadata": {},
   "outputs": [
    {
     "name": "stdout",
     "output_type": "stream",
     "text": [
      "{('cc', 'cc_r5'), ('cd', 'cc_r5')}\n"
     ]
    }
   ],
   "source": [
    "# which atoms are different?\n",
    "# looks like cc and cd, which we knew about.\n",
    "diff_list = [\n",
    "    (atom_antechamber[5], atom_foyer.type) for atom_antechamber, atom_foyer\n",
    "    in zip(typed_atoms, parameterized_structure.atoms) \n",
    "    if atom_foyer.type != atom_antechamber[5]\n",
    "]\n",
    "\n",
    "print(set(diff_list))"
   ]
  },
  {
   "cell_type": "code",
   "execution_count": null,
   "metadata": {},
   "outputs": [],
   "source": []
  },
  {
   "cell_type": "code",
   "execution_count": null,
   "metadata": {},
   "outputs": [],
   "source": []
  },
  {
   "cell_type": "code",
   "execution_count": null,
   "metadata": {},
   "outputs": [],
   "source": []
  }
 ],
 "metadata": {
  "kernelspec": {
   "display_name": "Python 3",
   "language": "python",
   "name": "python3"
  },
  "language_info": {
   "codemirror_mode": {
    "name": "ipython",
    "version": 3
   },
   "file_extension": ".py",
   "mimetype": "text/x-python",
   "name": "python",
   "nbconvert_exporter": "python",
   "pygments_lexer": "ipython3",
   "version": "3.7.6"
  }
 },
 "nbformat": 4,
 "nbformat_minor": 4
}
