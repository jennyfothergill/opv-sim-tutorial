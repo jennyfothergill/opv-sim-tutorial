{
 "cells": [
  {
   "cell_type": "code",
   "execution_count": 1,
   "metadata": {},
   "outputs": [],
   "source": [
    "import numpy as np\n",
    "import parmed as pmd\n",
    "from utils import base_units\n",
    "\n",
    "# MosDef packages\n",
    "import foyer\n",
    "from foyer import Forcefield\n",
    "#import hoomd\n",
    "import mbuild as mb\n",
    "\n"
   ]
  },
  {
   "cell_type": "code",
   "execution_count": 2,
   "metadata": {},
   "outputs": [],
   "source": [
    "# User inputs"
   ]
  },
  {
   "cell_type": "code",
   "execution_count": 3,
   "metadata": {},
   "outputs": [],
   "source": [
    "def compound(smiles_string, remove_):\n",
    "    \n",
    "    comp_mb = mb.load(p3ht_smi, smiles = True) # mbuild compound\n",
    "    comp_pmd = comp_mb.to_parmed() #parmed compound\n",
    "    comp_mass = np.sum([atom.mass for atom in comp_pmd.atoms]) # Mass of the compound\n",
    "    comp_mb.mass = comp_mass # Update mb compound's mass\n",
    "\n",
    "    GAFF = foyer.forcefields.load_GAFF()\n",
    "    comp_typed = GAFF.apply(comp_pmd, assert_dihedral_params=False)\n",
    "    for atom_pmd, atom_mb in zip(comp_typed, comp_mb):\n",
    "        atom_mb.name = \"_{}\".format(atom_pmd.type)\n",
    "    \n",
    "    return comp_mb\n",
    "\n",
    "def build_box(compound, num_compounds, density):\n",
    "    system_box = mb.packing.fill_box(compound, num_compounds, density)\n",
    "    return system_box"
   ]
  },
  {
   "cell_type": "code",
   "execution_count": null,
   "metadata": {},
   "outputs": [],
   "source": []
  },
  {
   "cell_type": "code",
   "execution_count": 57,
   "metadata": {},
   "outputs": [],
   "source": [
    "'''\n",
    "These steps below are essentially trying to recreate the process in planckton/placnkton/init.py\n",
    "The goal is to start with a smiles string rather than an already typed .mol2 file\n",
    "'''\n",
    "# COMPOUND: \n",
    "\n",
    "# Set up compound\n",
    "p3ht_smi = 'c1sccc1CCCCCC'\n",
    "comp_mb = mb.load(p3ht_smi, smiles = True) # mbuild compound\n",
    "\n",
    "# Find compound mass\n",
    "comp_pmd = comp_mb.to_parmed() #parmed compound\n",
    "comp_mass = np.sum([atom.mass for atom in comp_pmd.atoms]) # Mass of the compound\n",
    "comp_mb.mass = comp_mass # Update mb compound's mass\n",
    "\n",
    "# Type compound\n",
    "GAFF = foyer.forcefields.load_GAFF()\n",
    "comp_pmd_typed =  GAFF.apply(comp_mb, assert_dihedral_params=False) # parmed structure\n",
    "#comp_mb_typed = mb.Compound() # create new mbuild compound\n",
    "#comp_mb_typed.from_parmed(comp_pmd_typed) # Load from the typed parmed structure\n",
    "for atom_pmd, atom_mb in zip(comp_pmd_typed, comp_mb):\n",
    "    atom_mb.name = \"{}\".format(atom_pmd.type)  # Renaming mb comp atom names from atom types of parmed compound\n",
    "    atom_mb.pos /= 10"
   ]
  },
  {
   "cell_type": "code",
   "execution_count": 42,
   "metadata": {},
   "outputs": [
    {
     "data": {
      "text/plain": [
       "array([0.03469218, 0.07937259, 0.00884721])"
      ]
     },
     "execution_count": 42,
     "metadata": {},
     "output_type": "execute_result"
    }
   ],
   "source": [
    "atom_mb.pos"
   ]
  },
  {
   "cell_type": "code",
   "execution_count": 58,
   "metadata": {},
   "outputs": [
    {
     "data": {
      "text/plain": [
       "['cc_r5',\n",
       " 'ss',\n",
       " 'cc_r5',\n",
       " 'cc_r5',\n",
       " 'cc_r5',\n",
       " 'c3',\n",
       " 'c3',\n",
       " 'c3',\n",
       " 'c3',\n",
       " 'c3',\n",
       " 'c3',\n",
       " 'h4',\n",
       " 'h4',\n",
       " 'ha',\n",
       " 'hc',\n",
       " 'hc',\n",
       " 'hc',\n",
       " 'hc',\n",
       " 'hc',\n",
       " 'hc',\n",
       " 'hc',\n",
       " 'hc',\n",
       " 'hc',\n",
       " 'hc',\n",
       " 'hc',\n",
       " 'hc',\n",
       " 'hc']"
      ]
     },
     "execution_count": 58,
     "metadata": {},
     "output_type": "execute_result"
    }
   ],
   "source": [
    "[p.name for p in comp_mb.particles()]"
   ]
  },
  {
   "cell_type": "code",
   "execution_count": 59,
   "metadata": {},
   "outputs": [
    {
     "name": "stderr",
     "output_type": "stream",
     "text": [
      "/home/chris/cme/mbuild/mbuild/compound.py:2443: UserWarning: Guessing that \"<cc_r5 pos=( 0.0005, 0.0116,-0.0000), 0 bonds, id: 139869009703376>\" is element: \"C\"\n",
      "  atom, element))\n",
      "/home/chris/cme/mbuild/mbuild/compound.py:2443: UserWarning: Guessing that \"<ss pos=(-0.0112,-0.0008,-0.0001), 0 bonds, id: 139869009703440>\" is element: \"S\"\n",
      "  atom, element))\n",
      "/home/chris/cme/mbuild/mbuild/compound.py:2443: UserWarning: Guessing that \"<c3 pos=( 0.0259, 0.0154, 0.0000), 0 bonds, id: 139869009703568>\" is element: \"C\"\n",
      "  atom, element))\n",
      "/home/chris/cme/mbuild/mbuild/compound.py:2443: UserWarning: Guessing that \"<h4 pos=(-0.0029, 0.0219,-0.0001), 0 bonds, id: 139869007373264>\" is element: \"H\"\n",
      "  atom, element))\n",
      "/home/chris/cme/mbuild/mbuild/compound.py:2443: UserWarning: Guessing that \"<ha pos=( 0.0227,-0.0134, 0.0001), 0 bonds, id: 139869007375888>\" is element: \"H\"\n",
      "  atom, element))\n",
      "/home/chris/cme/mbuild/mbuild/compound.py:2443: UserWarning: Guessing that \"<hc pos=( 0.0320, 0.0129,-0.0088), 0 bonds, id: 139869007375184>\" is element: \"H\"\n",
      "  atom, element))\n"
     ]
    }
   ],
   "source": [
    "# CREATE A SIMULATION VOLUME (MBUILD BOX)\n",
    "box = mb.packing.fill_box(compound = comp_mb, n_compounds=2, box=mb.Box([1,1,1]), edge=0.02, fix_orientation=True)"
   ]
  },
  {
   "cell_type": "code",
   "execution_count": 60,
   "metadata": {},
   "outputs": [
    {
     "name": "stderr",
     "output_type": "stream",
     "text": [
      "/home/chris/cme/mbuild/mbuild/compound.py:2443: UserWarning: Guessing that \"<cc_r5 pos=( 0.1348, 0.0349, 0.0089), 0 bonds, id: 139868984105936>\" is element: \"C\"\n",
      "  atom, element))\n",
      "/home/chris/cme/mbuild/mbuild/compound.py:2443: UserWarning: Guessing that \"<ss pos=( 0.1231, 0.0224, 0.0088), 0 bonds, id: 139868984106320>\" is element: \"S\"\n",
      "  atom, element))\n",
      "/home/chris/cme/mbuild/mbuild/compound.py:2443: UserWarning: Guessing that \"<c3 pos=( 0.1603, 0.0386, 0.0089), 0 bonds, id: 139868984105168>\" is element: \"C\"\n",
      "  atom, element))\n",
      "/home/chris/cme/mbuild/mbuild/compound.py:2443: UserWarning: Guessing that \"<h4 pos=( 0.1314, 0.0452, 0.0088), 0 bonds, id: 139868982503760>\" is element: \"H\"\n",
      "  atom, element))\n",
      "/home/chris/cme/mbuild/mbuild/compound.py:2443: UserWarning: Guessing that \"<ha pos=( 0.1570, 0.0099, 0.0090), 0 bonds, id: 139868982501776>\" is element: \"H\"\n",
      "  atom, element))\n",
      "/home/chris/cme/mbuild/mbuild/compound.py:2443: UserWarning: Guessing that \"<hc pos=( 0.1663, 0.0361, 0.0001), 0 bonds, id: 139868982503376>\" is element: \"H\"\n",
      "  atom, element))\n"
     ]
    },
    {
     "data": {
      "application/3dmoljs_load.v0": "<div id=\"3dmolviewer_1582654800951649\"  style=\"position: relative; width: 640px; height: 480px\">\n        <p id=\"3dmolwarning_1582654800951649\" style=\"background-color:#ffcccc;color:black\">You appear to be running in JupyterLab (or JavaScript failed to load for some other reason).  You need to install the 3dmol extension: <br>\n        <tt>jupyter labextension install jupyterlab_3dmol</tt></p>\n        </div>\n<script>\n\nvar loadScriptAsync = function(uri){\n  return new Promise((resolve, reject) => {\n    var tag = document.createElement('script');\n    tag.src = uri;\n    tag.async = true;\n    tag.onload = () => {\n      resolve();\n    };\n  var firstScriptTag = document.getElementsByTagName('script')[0];\n  firstScriptTag.parentNode.insertBefore(tag, firstScriptTag);\n});\n};\n\nif(typeof $3Dmolpromise === 'undefined') {\n$3Dmolpromise = null;\n  $3Dmolpromise = loadScriptAsync('https://3dmol.csb.pitt.edu/build/3Dmol.js');\n}\n\nvar viewer_1582654800951649 = null;\nvar warn = document.getElementById(\"3dmolwarning_1582654800951649\");\nif(warn) {\n    warn.parentNode.removeChild(warn);\n}\n$3Dmolpromise.then(function() {\nviewer_1582654800951649 = $3Dmol.createViewer($(\"#3dmolviewer_1582654800951649\"),{backgroundColor:\"white\"});\n\tviewer_1582654800951649.addModel(\"@<TRIPOS>MOLECULE\\nRES\\n54 54 1 0 1\\nSMALL\\nNO_CHARGES\\n@<TRIPOS>CRYSIN\\n   10.0000    10.0000    10.0000    90.0000    90.0000    90.0000  1  1\\n@<TRIPOS>ATOM\\n       1 cc_r5        1.3478     0.3488     0.0885 cc_r5         1 RES     \\n       2 ss           1.2315     0.2241     0.0883 ss            1 RES     \\n       3 cc_r5        1.3531     0.1044     0.0885 cc_r5         1 RES     \\n       4 cc_r5        1.4798     0.1588     0.0892 cc_r5         1 RES     \\n       5 cc_r5        1.4781     0.3020     0.0890 cc_r5         1 RES     \\n       6 c3           1.6025     0.3864     0.0894 c3            1 RES     \\n       7 c3           1.5725     0.5358     0.0890 c3            1 RES     \\n       8 c3           1.6991     0.6194     0.0893 c3            1 RES     \\n       9 c3           1.6618     0.7672     0.0890 c3            1 RES     \\n      10 c3           1.7867     0.8539     0.0893 c3            1 RES     \\n      11 c3           1.7495     1.0009     0.0889 c3            1 RES     \\n      12 h4           1.3142     0.4517     0.0882 h4            1 RES     \\n      13 h4           1.3260     0.0000     0.0882 h4            1 RES     \\n      14 ha           1.5698     0.0987     0.0895 ha            1 RES     \\n      15 hc           1.6630     0.3610     0.0014 hc            1 RES     \\n      16 hc           1.6624     0.3612     0.1778 hc            1 RES     \\n      17 hc           1.5122     0.5617     0.1771 hc            1 RES     \\n      18 hc           1.5128     0.5614     0.0005 hc            1 RES     \\n      19 hc           1.7597     0.5957     0.0011 hc            1 RES     \\n      20 hc           1.7591     0.5960     0.1780 hc            1 RES     \\n      21 hc           1.6002     0.7900     0.1769 hc            1 RES     \\n      22 hc           1.6008     0.7898     0.0006 hc            1 RES     \\n      23 hc           1.8478     0.8312     0.0012 hc            1 RES     \\n      24 hc           1.8472     0.8314     0.1778 hc            1 RES     \\n      25 hc           1.6907     1.0259    -0.0000 hc            1 RES     \\n      26 hc           1.8397     1.0626     0.0891 hc            1 RES     \\n      27 hc           1.6901     1.0261     0.1774 hc            1 RES     \\n      28 cc_r5        6.5014     0.3488     0.0885 cc_r5         1 RES     \\n      29 ss           6.3851     0.2241     0.0883 ss            1 RES     \\n      30 cc_r5        6.5067     0.1044     0.0885 cc_r5         1 RES     \\n      31 cc_r5        6.6334     0.1588     0.0892 cc_r5         1 RES     \\n      32 cc_r5        6.6317     0.3020     0.0890 cc_r5         1 RES     \\n      33 c3           6.7561     0.3864     0.0894 c3            1 RES     \\n      34 c3           6.7261     0.5358     0.0890 c3            1 RES     \\n      35 c3           6.8527     0.6194     0.0893 c3            1 RES     \\n      36 c3           6.8154     0.7672     0.0890 c3            1 RES     \\n      37 c3           6.9403     0.8539     0.0893 c3            1 RES     \\n      38 c3           6.9031     1.0009     0.0889 c3            1 RES     \\n      39 h4           6.4678     0.4517     0.0882 h4            1 RES     \\n      40 h4           6.4796     0.0000     0.0882 h4            1 RES     \\n      41 ha           6.7234     0.0987     0.0895 ha            1 RES     \\n      42 hc           6.8166     0.3610     0.0014 hc            1 RES     \\n      43 hc           6.8161     0.3612     0.1778 hc            1 RES     \\n      44 hc           6.6659     0.5617     0.1771 hc            1 RES     \\n      45 hc           6.6665     0.5614     0.0005 hc            1 RES     \\n      46 hc           6.9133     0.5957     0.0011 hc            1 RES     \\n      47 hc           6.9127     0.5960     0.1780 hc            1 RES     \\n      48 hc           6.7538     0.7900     0.1769 hc            1 RES     \\n      49 hc           6.7544     0.7898     0.0006 hc            1 RES     \\n      50 hc           7.0014     0.8312     0.0012 hc            1 RES     \\n      51 hc           7.0008     0.8314     0.1778 hc            1 RES     \\n      52 hc           6.8443     1.0259    -0.0000 hc            1 RES     \\n      53 hc           6.9933     1.0626     0.0891 hc            1 RES     \\n      54 hc           6.8437     1.0261     0.1774 hc            1 RES     \\n@<TRIPOS>BOND\\n       1       34       45 1\\n       2       34       33 1\\n       3       13        3 1\\n       4        6        7 1\\n       5        7       17 1\\n       6       14        4 1\\n       7       12        1 1\\n       8        7       18 1\\n       9       30       29 1\\n      10       16        6 1\\n      11       35       46 1\\n      12       36       48 1\\n      13       11       25 1\\n      14       33       42 1\\n      15       40       30 1\\n      16        8       19 1\\n      17        5        4 1\\n      18       38       37 1\\n      19       37       51 1\\n      20       11       27 1\\n      21        1        2 1\\n      22        2        3 1\\n      23        9       21 1\\n      24       33       43 1\\n      25       38       54 1\\n      26       10       23 1\\n      27       11       10 1\\n      28       37       50 1\\n      29       38       52 1\\n      30       11       26 1\\n      31       34       35 1\\n      32        7        8 1\\n      33        8       20 1\\n      34        9        8 1\\n      35       36       49 1\\n      36       34       44 1\\n      37        6        5 1\\n      38       28       29 1\\n      39       28       39 1\\n      40       35       47 1\\n      41       31       41 1\\n      42        4        3 1\\n      43       10        9 1\\n      44       32       31 1\\n      45        9       22 1\\n      46       37       36 1\\n      47       10       24 1\\n      48       28       32 1\\n      49       30       31 1\\n      50       35       36 1\\n      51        1        5 1\\n      52       15        6 1\\n      53       38       53 1\\n      54       33       32 1\\n@<TRIPOS>SUBSTRUCTURE\\n       1 RES             1 RESIDUE    0 **** ROOT      0\\n\",\"mol2\");\n\tviewer_1582654800951649.setStyle({\"stick\": {\"radius\": 0.2, \"color\": \"grey\"}, \"sphere\": {\"scale\": 0.3, \"colorscheme\": {}}});\n\tviewer_1582654800951649.zoomTo();\nviewer_1582654800951649.render();\n});\n</script>",
      "text/html": [
       "<div id=\"3dmolviewer_1582654800951649\"  style=\"position: relative; width: 640px; height: 480px\">\n",
       "        <p id=\"3dmolwarning_1582654800951649\" style=\"background-color:#ffcccc;color:black\">You appear to be running in JupyterLab (or JavaScript failed to load for some other reason).  You need to install the 3dmol extension: <br>\n",
       "        <tt>jupyter labextension install jupyterlab_3dmol</tt></p>\n",
       "        </div>\n",
       "<script>\n",
       "\n",
       "var loadScriptAsync = function(uri){\n",
       "  return new Promise((resolve, reject) => {\n",
       "    var tag = document.createElement('script');\n",
       "    tag.src = uri;\n",
       "    tag.async = true;\n",
       "    tag.onload = () => {\n",
       "      resolve();\n",
       "    };\n",
       "  var firstScriptTag = document.getElementsByTagName('script')[0];\n",
       "  firstScriptTag.parentNode.insertBefore(tag, firstScriptTag);\n",
       "});\n",
       "};\n",
       "\n",
       "if(typeof $3Dmolpromise === 'undefined') {\n",
       "$3Dmolpromise = null;\n",
       "  $3Dmolpromise = loadScriptAsync('https://3dmol.csb.pitt.edu/build/3Dmol.js');\n",
       "}\n",
       "\n",
       "var viewer_1582654800951649 = null;\n",
       "var warn = document.getElementById(\"3dmolwarning_1582654800951649\");\n",
       "if(warn) {\n",
       "    warn.parentNode.removeChild(warn);\n",
       "}\n",
       "$3Dmolpromise.then(function() {\n",
       "viewer_1582654800951649 = $3Dmol.createViewer($(\"#3dmolviewer_1582654800951649\"),{backgroundColor:\"white\"});\n",
       "\tviewer_1582654800951649.addModel(\"@<TRIPOS>MOLECULE\\nRES\\n54 54 1 0 1\\nSMALL\\nNO_CHARGES\\n@<TRIPOS>CRYSIN\\n   10.0000    10.0000    10.0000    90.0000    90.0000    90.0000  1  1\\n@<TRIPOS>ATOM\\n       1 cc_r5        1.3478     0.3488     0.0885 cc_r5         1 RES     \\n       2 ss           1.2315     0.2241     0.0883 ss            1 RES     \\n       3 cc_r5        1.3531     0.1044     0.0885 cc_r5         1 RES     \\n       4 cc_r5        1.4798     0.1588     0.0892 cc_r5         1 RES     \\n       5 cc_r5        1.4781     0.3020     0.0890 cc_r5         1 RES     \\n       6 c3           1.6025     0.3864     0.0894 c3            1 RES     \\n       7 c3           1.5725     0.5358     0.0890 c3            1 RES     \\n       8 c3           1.6991     0.6194     0.0893 c3            1 RES     \\n       9 c3           1.6618     0.7672     0.0890 c3            1 RES     \\n      10 c3           1.7867     0.8539     0.0893 c3            1 RES     \\n      11 c3           1.7495     1.0009     0.0889 c3            1 RES     \\n      12 h4           1.3142     0.4517     0.0882 h4            1 RES     \\n      13 h4           1.3260     0.0000     0.0882 h4            1 RES     \\n      14 ha           1.5698     0.0987     0.0895 ha            1 RES     \\n      15 hc           1.6630     0.3610     0.0014 hc            1 RES     \\n      16 hc           1.6624     0.3612     0.1778 hc            1 RES     \\n      17 hc           1.5122     0.5617     0.1771 hc            1 RES     \\n      18 hc           1.5128     0.5614     0.0005 hc            1 RES     \\n      19 hc           1.7597     0.5957     0.0011 hc            1 RES     \\n      20 hc           1.7591     0.5960     0.1780 hc            1 RES     \\n      21 hc           1.6002     0.7900     0.1769 hc            1 RES     \\n      22 hc           1.6008     0.7898     0.0006 hc            1 RES     \\n      23 hc           1.8478     0.8312     0.0012 hc            1 RES     \\n      24 hc           1.8472     0.8314     0.1778 hc            1 RES     \\n      25 hc           1.6907     1.0259    -0.0000 hc            1 RES     \\n      26 hc           1.8397     1.0626     0.0891 hc            1 RES     \\n      27 hc           1.6901     1.0261     0.1774 hc            1 RES     \\n      28 cc_r5        6.5014     0.3488     0.0885 cc_r5         1 RES     \\n      29 ss           6.3851     0.2241     0.0883 ss            1 RES     \\n      30 cc_r5        6.5067     0.1044     0.0885 cc_r5         1 RES     \\n      31 cc_r5        6.6334     0.1588     0.0892 cc_r5         1 RES     \\n      32 cc_r5        6.6317     0.3020     0.0890 cc_r5         1 RES     \\n      33 c3           6.7561     0.3864     0.0894 c3            1 RES     \\n      34 c3           6.7261     0.5358     0.0890 c3            1 RES     \\n      35 c3           6.8527     0.6194     0.0893 c3            1 RES     \\n      36 c3           6.8154     0.7672     0.0890 c3            1 RES     \\n      37 c3           6.9403     0.8539     0.0893 c3            1 RES     \\n      38 c3           6.9031     1.0009     0.0889 c3            1 RES     \\n      39 h4           6.4678     0.4517     0.0882 h4            1 RES     \\n      40 h4           6.4796     0.0000     0.0882 h4            1 RES     \\n      41 ha           6.7234     0.0987     0.0895 ha            1 RES     \\n      42 hc           6.8166     0.3610     0.0014 hc            1 RES     \\n      43 hc           6.8161     0.3612     0.1778 hc            1 RES     \\n      44 hc           6.6659     0.5617     0.1771 hc            1 RES     \\n      45 hc           6.6665     0.5614     0.0005 hc            1 RES     \\n      46 hc           6.9133     0.5957     0.0011 hc            1 RES     \\n      47 hc           6.9127     0.5960     0.1780 hc            1 RES     \\n      48 hc           6.7538     0.7900     0.1769 hc            1 RES     \\n      49 hc           6.7544     0.7898     0.0006 hc            1 RES     \\n      50 hc           7.0014     0.8312     0.0012 hc            1 RES     \\n      51 hc           7.0008     0.8314     0.1778 hc            1 RES     \\n      52 hc           6.8443     1.0259    -0.0000 hc            1 RES     \\n      53 hc           6.9933     1.0626     0.0891 hc            1 RES     \\n      54 hc           6.8437     1.0261     0.1774 hc            1 RES     \\n@<TRIPOS>BOND\\n       1       34       45 1\\n       2       34       33 1\\n       3       13        3 1\\n       4        6        7 1\\n       5        7       17 1\\n       6       14        4 1\\n       7       12        1 1\\n       8        7       18 1\\n       9       30       29 1\\n      10       16        6 1\\n      11       35       46 1\\n      12       36       48 1\\n      13       11       25 1\\n      14       33       42 1\\n      15       40       30 1\\n      16        8       19 1\\n      17        5        4 1\\n      18       38       37 1\\n      19       37       51 1\\n      20       11       27 1\\n      21        1        2 1\\n      22        2        3 1\\n      23        9       21 1\\n      24       33       43 1\\n      25       38       54 1\\n      26       10       23 1\\n      27       11       10 1\\n      28       37       50 1\\n      29       38       52 1\\n      30       11       26 1\\n      31       34       35 1\\n      32        7        8 1\\n      33        8       20 1\\n      34        9        8 1\\n      35       36       49 1\\n      36       34       44 1\\n      37        6        5 1\\n      38       28       29 1\\n      39       28       39 1\\n      40       35       47 1\\n      41       31       41 1\\n      42        4        3 1\\n      43       10        9 1\\n      44       32       31 1\\n      45        9       22 1\\n      46       37       36 1\\n      47       10       24 1\\n      48       28       32 1\\n      49       30       31 1\\n      50       35       36 1\\n      51        1        5 1\\n      52       15        6 1\\n      53       38       53 1\\n      54       33       32 1\\n@<TRIPOS>SUBSTRUCTURE\\n       1 RES             1 RESIDUE    0 **** ROOT      0\\n\",\"mol2\");\n",
       "\tviewer_1582654800951649.setStyle({\"stick\": {\"radius\": 0.2, \"color\": \"grey\"}, \"sphere\": {\"scale\": 0.3, \"colorscheme\": {}}});\n",
       "\tviewer_1582654800951649.zoomTo();\n",
       "viewer_1582654800951649.render();\n",
       "});\n",
       "</script>"
      ]
     },
     "metadata": {},
     "output_type": "display_data"
    },
    {
     "data": {
      "text/plain": [
       "<py3Dmol.view at 0x7f35c9046e90>"
      ]
     },
     "execution_count": 60,
     "metadata": {},
     "output_type": "execute_result"
    }
   ],
   "source": [
    "box.visualize()"
   ]
  },
  {
   "cell_type": "code",
   "execution_count": 5,
   "metadata": {},
   "outputs": [
    {
     "name": "stderr",
     "output_type": "stream",
     "text": [
      "/home/chris/cme/mbuild/mbuild/compound.py:2749: UserWarning: No unitcell detected for pybel.Molecule c1ccccc1\t\n",
      "\n",
      "  warn(\"No unitcell detected for pybel.Molecule {}\".format(pybel_mol))\n"
     ]
    }
   ],
   "source": []
  },
  {
   "cell_type": "code",
   "execution_count": 39,
   "metadata": {},
   "outputs": [
    {
     "name": "stderr",
     "output_type": "stream",
     "text": [
      "/home/chris/miniconda3/envs/mosdef-smiles/lib/python3.7/site-packages/openbabel/__init__.py:14: UserWarning: \"import openbabel\" is deprecated, instead use \"from openbabel import openbabel\"\n",
      "  warnings.warn('\"import openbabel\" is deprecated, instead use \"from openbabel import openbabel\"')\n",
      "/home/chris/cme/mbuild/mbuild/compound.py:2749: UserWarning: No unitcell detected for pybel.Molecule c1ccccc1\t\n",
      "\n",
      "  warn(\"No unitcell detected for pybel.Molecule {}\".format(pybel_mol))\n",
      "/home/chris/cme/forks/foyer/foyer/validator.py:132: ValidationWarning: You have empty smart definition(s)\n",
      "  warn(\"You have empty smart definition(s)\", ValidationWarning)\n",
      "/home/chris/cme/mbuild/mbuild/compound.py:2443: UserWarning: Guessing that \"<_ca pos=( 0.1377,-0.0219, 0.0004), 0 bonds, id: 140521374781520>\" is element: \"EP\"\n",
      "  atom, element))\n",
      "/home/chris/cme/mbuild/mbuild/compound.py:2443: UserWarning: Guessing that \"<_ha pos=( 0.2451,-0.0386, 0.0010), 0 bonds, id: 140521363608848>\" is element: \"EP\"\n",
      "  atom, element))\n",
      "/home/chris/cme/mbuild/mbuild/compound.py:2443: UserWarning: Guessing that \"<_ca pos=( 4.8305, 0.2025, 0.2831), 0 bonds, id: 140521375173712>\" is element: \"EP\"\n",
      "  atom, element))\n",
      "/home/chris/cme/mbuild/mbuild/compound.py:2443: UserWarning: Guessing that \"<_ha pos=( 4.7354, 0.2207, 0.3326), 0 bonds, id: 140521352430992>\" is element: \"EP\"\n",
      "  atom, element))\n"
     ]
    },
    {
     "data": {
      "application/3dmoljs_load.v0": "<div id=\"3dmolviewer_15826531359061296\"  style=\"position: relative; width: 640px; height: 480px\">\n        <p id=\"3dmolwarning_15826531359061296\" style=\"background-color:#ffcccc;color:black\">You appear to be running in JupyterLab (or JavaScript failed to load for some other reason).  You need to install the 3dmol extension: <br>\n        <tt>jupyter labextension install jupyterlab_3dmol</tt></p>\n        </div>\n<script>\n\nvar loadScriptAsync = function(uri){\n  return new Promise((resolve, reject) => {\n    var tag = document.createElement('script');\n    tag.src = uri;\n    tag.async = true;\n    tag.onload = () => {\n      resolve();\n    };\n  var firstScriptTag = document.getElementsByTagName('script')[0];\n  firstScriptTag.parentNode.insertBefore(tag, firstScriptTag);\n});\n};\n\nif(typeof $3Dmolpromise === 'undefined') {\n$3Dmolpromise = null;\n  $3Dmolpromise = loadScriptAsync('https://3dmol.csb.pitt.edu/build/3Dmol.js');\n}\n\nvar viewer_15826531359061296 = null;\nvar warn = document.getElementById(\"3dmolwarning_15826531359061296\");\nif(warn) {\n    warn.parentNode.removeChild(warn);\n}\n$3Dmolpromise.then(function() {\nviewer_15826531359061296 = $3Dmol.createViewer($(\"#3dmolviewer_15826531359061296\"),{backgroundColor:\"white\"});\n\tviewer_15826531359061296.addModel(\"@<TRIPOS>MOLECULE\\nRES\\n48 48 1 0 1\\nSMALL\\nNO_CHARGES\\n@<TRIPOS>CRYSIN\\n   80.3541    80.3541    80.3541    90.0000    90.0000    90.0000  1  1\\n@<TRIPOS>ATOM\\n       1 _ca         48.3047     2.0251     2.8311 _ca           1 RES     \\n       2 _ca         49.2424     1.1729     3.4156 _ca           1 RES     \\n       3 _ca         50.4723     0.9595     2.7926 _ca           1 RES     \\n       4 _ca         50.7484     1.5645     1.5678 _ca           1 RES     \\n       5 _ca         49.8055     2.4065     0.9767 _ca           1 RES     \\n       6 _ca         48.5882     2.6450     1.6154 _ca           1 RES     \\n       7 _ha         47.3543     2.2071     3.3262 _ha           1 RES     \\n       8 _ha         49.0155     0.6773     4.3550 _ha           1 RES     \\n       9 _ha         51.2155     0.3209     3.2635 _ha           1 RES     \\n      10 _ha         51.6979     1.3804     1.0719 _ha           1 RES     \\n      11 _ha         50.0209     2.8790     0.0229 _ha           1 RES     \\n      12 _ha         47.8594     3.3126     1.1624 _ha           1 RES     \\n      13 C           48.3047     2.0251     2.8311 C             1 RES     \\n      14 C           49.2424     1.1729     3.4156 C             1 RES     \\n      15 C           50.4723     0.9595     2.7926 C             1 RES     \\n      16 C           50.7484     1.5645     1.5678 C             1 RES     \\n      17 C           49.8055     2.4065     0.9767 C             1 RES     \\n      18 C           48.5882     2.6450     1.6154 C             1 RES     \\n      19 H           47.3543     2.2071     3.3262 H             1 RES     \\n      20 H           49.0155     0.6773     4.3550 H             1 RES     \\n      21 H           51.2155     0.3209     3.2635 H             1 RES     \\n      22 H           51.6979     1.3804     1.0719 H             1 RES     \\n      23 H           50.0209     2.8790     0.0229 H             1 RES     \\n      24 H           47.8594     3.3126     1.1624 H             1 RES     \\n      25 _ca         22.4986     3.9189     0.5675 _ca           1 RES     \\n      26 _ca         23.1501     2.7056     0.3422 _ca           1 RES     \\n      27 _ca         22.4531     1.5052     0.4811 _ca           1 RES     \\n      28 _ca         21.1188     1.5156     0.8838 _ca           1 RES     \\n      29 _ca         20.4708     2.7284     1.1218 _ca           1 RES     \\n      30 _ca         21.1589     3.9301     0.9521 _ca           1 RES     \\n      31 _ha         23.0360     4.8551     0.4401 _ha           1 RES     \\n      32 _ha         24.1983     2.6960     0.0580 _ha           1 RES     \\n      33 _ha         22.9514     0.5613     0.2746 _ha           1 RES     \\n      34 _ha         20.5824     0.5791     1.0133 _ha           1 RES     \\n      35 _ha         19.4308     2.7366     1.4344 _ha           1 RES     \\n      36 _ha         20.6502     4.8756     1.1231 _ha           1 RES     \\n      37 C           22.4986     3.9189     0.5675 C             1 RES     \\n      38 C           23.1501     2.7056     0.3422 C             1 RES     \\n      39 C           22.4531     1.5052     0.4811 C             1 RES     \\n      40 C           21.1188     1.5156     0.8838 C             1 RES     \\n      41 C           20.4708     2.7284     1.1218 C             1 RES     \\n      42 C           21.1589     3.9301     0.9521 C             1 RES     \\n      43 H           23.0360     4.8551     0.4401 H             1 RES     \\n      44 H           24.1983     2.6960     0.0580 H             1 RES     \\n      45 H           22.9514     0.5613     0.2746 H             1 RES     \\n      46 H           20.5824     0.5791     1.0133 H             1 RES     \\n      47 H           19.4308     2.7366     1.4344 H             1 RES     \\n      48 H           20.6502     4.8756     1.1231 H             1 RES     \\n@<TRIPOS>BOND\\n       1       26       32 1\\n       2       16       22 1\\n       3       38       39 1\\n       4        7        1 1\\n       5        8        2 1\\n       6       48       42 1\\n       7       28       27 1\\n       8       41       42 1\\n       9       13       19 1\\n      10       17       18 1\\n      11        5        4 1\\n      12       17       23 1\\n      13       13       18 1\\n      14        1        2 1\\n      15        2        3 1\\n      16       47       41 1\\n      17       37       43 1\\n      18       13       14 1\\n      19       28       34 1\\n      20       46       40 1\\n      21       16       15 1\\n      22       15       21 1\\n      23       25       31 1\\n      24       37       42 1\\n      25       26       27 1\\n      26       37       38 1\\n      27       29       30 1\\n      28       45       39 1\\n      29       14       15 1\\n      30       41       40 1\\n      31       40       39 1\\n      32        4        3 1\\n      33       16       17 1\\n      34       10        4 1\\n      35       44       38 1\\n      36       24       18 1\\n      37       35       29 1\\n      38       33       27 1\\n      39        5       11 1\\n      40       28       29 1\\n      41       14       20 1\\n      42       25       30 1\\n      43        6        1 1\\n      44       36       30 1\\n      45        9        3 1\\n      46       12        6 1\\n      47       26       25 1\\n      48        5        6 1\\n@<TRIPOS>SUBSTRUCTURE\\n       1 RES             1 RESIDUE    0 **** ROOT      0\\n\",\"mol2\");\n\tviewer_15826531359061296.setStyle({\"stick\": {\"radius\": 0.2, \"color\": \"grey\"}, \"sphere\": {\"scale\": 0.3, \"colorscheme\": {}}});\n\tviewer_15826531359061296.zoomTo();\nviewer_15826531359061296.render();\n});\n</script>",
      "text/html": [
       "<div id=\"3dmolviewer_15826531359061296\"  style=\"position: relative; width: 640px; height: 480px\">\n",
       "        <p id=\"3dmolwarning_15826531359061296\" style=\"background-color:#ffcccc;color:black\">You appear to be running in JupyterLab (or JavaScript failed to load for some other reason).  You need to install the 3dmol extension: <br>\n",
       "        <tt>jupyter labextension install jupyterlab_3dmol</tt></p>\n",
       "        </div>\n",
       "<script>\n",
       "\n",
       "var loadScriptAsync = function(uri){\n",
       "  return new Promise((resolve, reject) => {\n",
       "    var tag = document.createElement('script');\n",
       "    tag.src = uri;\n",
       "    tag.async = true;\n",
       "    tag.onload = () => {\n",
       "      resolve();\n",
       "    };\n",
       "  var firstScriptTag = document.getElementsByTagName('script')[0];\n",
       "  firstScriptTag.parentNode.insertBefore(tag, firstScriptTag);\n",
       "});\n",
       "};\n",
       "\n",
       "if(typeof $3Dmolpromise === 'undefined') {\n",
       "$3Dmolpromise = null;\n",
       "  $3Dmolpromise = loadScriptAsync('https://3dmol.csb.pitt.edu/build/3Dmol.js');\n",
       "}\n",
       "\n",
       "var viewer_15826531359061296 = null;\n",
       "var warn = document.getElementById(\"3dmolwarning_15826531359061296\");\n",
       "if(warn) {\n",
       "    warn.parentNode.removeChild(warn);\n",
       "}\n",
       "$3Dmolpromise.then(function() {\n",
       "viewer_15826531359061296 = $3Dmol.createViewer($(\"#3dmolviewer_15826531359061296\"),{backgroundColor:\"white\"});\n",
       "\tviewer_15826531359061296.addModel(\"@<TRIPOS>MOLECULE\\nRES\\n48 48 1 0 1\\nSMALL\\nNO_CHARGES\\n@<TRIPOS>CRYSIN\\n   80.3541    80.3541    80.3541    90.0000    90.0000    90.0000  1  1\\n@<TRIPOS>ATOM\\n       1 _ca         48.3047     2.0251     2.8311 _ca           1 RES     \\n       2 _ca         49.2424     1.1729     3.4156 _ca           1 RES     \\n       3 _ca         50.4723     0.9595     2.7926 _ca           1 RES     \\n       4 _ca         50.7484     1.5645     1.5678 _ca           1 RES     \\n       5 _ca         49.8055     2.4065     0.9767 _ca           1 RES     \\n       6 _ca         48.5882     2.6450     1.6154 _ca           1 RES     \\n       7 _ha         47.3543     2.2071     3.3262 _ha           1 RES     \\n       8 _ha         49.0155     0.6773     4.3550 _ha           1 RES     \\n       9 _ha         51.2155     0.3209     3.2635 _ha           1 RES     \\n      10 _ha         51.6979     1.3804     1.0719 _ha           1 RES     \\n      11 _ha         50.0209     2.8790     0.0229 _ha           1 RES     \\n      12 _ha         47.8594     3.3126     1.1624 _ha           1 RES     \\n      13 C           48.3047     2.0251     2.8311 C             1 RES     \\n      14 C           49.2424     1.1729     3.4156 C             1 RES     \\n      15 C           50.4723     0.9595     2.7926 C             1 RES     \\n      16 C           50.7484     1.5645     1.5678 C             1 RES     \\n      17 C           49.8055     2.4065     0.9767 C             1 RES     \\n      18 C           48.5882     2.6450     1.6154 C             1 RES     \\n      19 H           47.3543     2.2071     3.3262 H             1 RES     \\n      20 H           49.0155     0.6773     4.3550 H             1 RES     \\n      21 H           51.2155     0.3209     3.2635 H             1 RES     \\n      22 H           51.6979     1.3804     1.0719 H             1 RES     \\n      23 H           50.0209     2.8790     0.0229 H             1 RES     \\n      24 H           47.8594     3.3126     1.1624 H             1 RES     \\n      25 _ca         22.4986     3.9189     0.5675 _ca           1 RES     \\n      26 _ca         23.1501     2.7056     0.3422 _ca           1 RES     \\n      27 _ca         22.4531     1.5052     0.4811 _ca           1 RES     \\n      28 _ca         21.1188     1.5156     0.8838 _ca           1 RES     \\n      29 _ca         20.4708     2.7284     1.1218 _ca           1 RES     \\n      30 _ca         21.1589     3.9301     0.9521 _ca           1 RES     \\n      31 _ha         23.0360     4.8551     0.4401 _ha           1 RES     \\n      32 _ha         24.1983     2.6960     0.0580 _ha           1 RES     \\n      33 _ha         22.9514     0.5613     0.2746 _ha           1 RES     \\n      34 _ha         20.5824     0.5791     1.0133 _ha           1 RES     \\n      35 _ha         19.4308     2.7366     1.4344 _ha           1 RES     \\n      36 _ha         20.6502     4.8756     1.1231 _ha           1 RES     \\n      37 C           22.4986     3.9189     0.5675 C             1 RES     \\n      38 C           23.1501     2.7056     0.3422 C             1 RES     \\n      39 C           22.4531     1.5052     0.4811 C             1 RES     \\n      40 C           21.1188     1.5156     0.8838 C             1 RES     \\n      41 C           20.4708     2.7284     1.1218 C             1 RES     \\n      42 C           21.1589     3.9301     0.9521 C             1 RES     \\n      43 H           23.0360     4.8551     0.4401 H             1 RES     \\n      44 H           24.1983     2.6960     0.0580 H             1 RES     \\n      45 H           22.9514     0.5613     0.2746 H             1 RES     \\n      46 H           20.5824     0.5791     1.0133 H             1 RES     \\n      47 H           19.4308     2.7366     1.4344 H             1 RES     \\n      48 H           20.6502     4.8756     1.1231 H             1 RES     \\n@<TRIPOS>BOND\\n       1       26       32 1\\n       2       16       22 1\\n       3       38       39 1\\n       4        7        1 1\\n       5        8        2 1\\n       6       48       42 1\\n       7       28       27 1\\n       8       41       42 1\\n       9       13       19 1\\n      10       17       18 1\\n      11        5        4 1\\n      12       17       23 1\\n      13       13       18 1\\n      14        1        2 1\\n      15        2        3 1\\n      16       47       41 1\\n      17       37       43 1\\n      18       13       14 1\\n      19       28       34 1\\n      20       46       40 1\\n      21       16       15 1\\n      22       15       21 1\\n      23       25       31 1\\n      24       37       42 1\\n      25       26       27 1\\n      26       37       38 1\\n      27       29       30 1\\n      28       45       39 1\\n      29       14       15 1\\n      30       41       40 1\\n      31       40       39 1\\n      32        4        3 1\\n      33       16       17 1\\n      34       10        4 1\\n      35       44       38 1\\n      36       24       18 1\\n      37       35       29 1\\n      38       33       27 1\\n      39        5       11 1\\n      40       28       29 1\\n      41       14       20 1\\n      42       25       30 1\\n      43        6        1 1\\n      44       36       30 1\\n      45        9        3 1\\n      46       12        6 1\\n      47       26       25 1\\n      48        5        6 1\\n@<TRIPOS>SUBSTRUCTURE\\n       1 RES             1 RESIDUE    0 **** ROOT      0\\n\",\"mol2\");\n",
       "\tviewer_15826531359061296.setStyle({\"stick\": {\"radius\": 0.2, \"color\": \"grey\"}, \"sphere\": {\"scale\": 0.3, \"colorscheme\": {}}});\n",
       "\tviewer_15826531359061296.zoomTo();\n",
       "viewer_15826531359061296.render();\n",
       "});\n",
       "</script>"
      ]
     },
     "metadata": {},
     "output_type": "display_data"
    },
    {
     "data": {
      "text/plain": [
       "<py3Dmol.view at 0x7fcdaeef0190>"
      ]
     },
     "execution_count": 39,
     "metadata": {},
     "output_type": "execute_result"
    }
   ],
   "source": [
    "benzene = mb.load('c1ccccc1', smiles=True) # untyped mbuild compound\n",
    "GAFF = foyer.forcefields.load_GAFF()\n",
    "benzene_typed_pmd = GAFF.apply(benzene, assert_dihedral_params=False) # parmed structure\n",
    "#benzene_typed_mb = mb.compound.Compound.from_parmed(structure=benzene_typed_pmd)\n",
    "mb.compound.Compound.from_parmed(benzene, benzene_typed_pmd)\n",
    "\n",
    "\n",
    "#benzene_pmd = benzene.to_parmed()\n",
    "benzene_mass = np.sum([atom.mass for atom in benzene_typed.atoms]) # mass of compound calc'd from parmed struct\n",
    "benzene.mass = benzene_mass # update mbuild compound mass\n",
    "\n",
    "for atom_pmd, atom_mb in zip(benzene_typed, benzene):\n",
    "#    print(atom_mb)\n",
    "#    print(atom_pmd)\n",
    "    atom_mb.name = \"_{}\".format(atom_pmd.type)\n",
    "#    print(atom_mb.name)\n",
    "#    print('---------')\n",
    "\n",
    "[p.name for p in benzene]\n",
    "box = mb.packing.fill_box(benzene, n_compounds=2, density=0.50)\n",
    "box.visualize()"
   ]
  },
  {
   "cell_type": "code",
   "execution_count": null,
   "metadata": {},
   "outputs": [],
   "source": []
  },
  {
   "cell_type": "code",
   "execution_count": null,
   "metadata": {},
   "outputs": [],
   "source": []
  },
  {
   "cell_type": "code",
   "execution_count": null,
   "metadata": {},
   "outputs": [],
   "source": []
  },
  {
   "cell_type": "code",
   "execution_count": null,
   "metadata": {},
   "outputs": [],
   "source": []
  }
 ],
 "metadata": {
  "kernelspec": {
   "display_name": "Python 3",
   "language": "python",
   "name": "python3"
  },
  "language_info": {
   "codemirror_mode": {
    "name": "ipython",
    "version": 3
   },
   "file_extension": ".py",
   "mimetype": "text/x-python",
   "name": "python",
   "nbconvert_exporter": "python",
   "pygments_lexer": "ipython3",
   "version": "3.7.6"
  }
 },
 "nbformat": 4,
 "nbformat_minor": 4
}
