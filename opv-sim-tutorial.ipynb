{
 "cells": [
  {
   "cell_type": "code",
   "execution_count": 49,
   "metadata": {},
   "outputs": [],
   "source": [
    "import matplotlib.pyplot as plt\n",
    "import numpy as np\n",
    "import parmed as pmd\n",
    "\n",
    "# MosDef packages\n",
    "import foyer\n",
    "from foyer import Forcefield\n",
    "import fresnel\n",
    "import freud\n",
    "import gsd\n",
    "import gsd.hoomd\n",
    "import gsd.fl\n",
    "import mbuild as mb\n",
    "from mbuild.formats.hoomd_simulation import create_hoomd_simulation\n",
    "import hoomd\n",
    "import hoomd.md\n",
    "import hoomd.group"
   ]
  },
  {
   "cell_type": "code",
   "execution_count": 2,
   "metadata": {},
   "outputs": [],
   "source": [
    "# User inputs"
   ]
  },
  {
   "cell_type": "code",
   "execution_count": 50,
   "metadata": {},
   "outputs": [],
   "source": [
    "def compound(smiles_string):\n",
    "    \n",
    "    comp_mb = mb.load(smiles_string, smiles = True) # creates an mbuild compound instance\n",
    "    #comp_pmd = comp_mb.to_parmed() # convert the mbuild compound to a parmed compound\n",
    "    #comp_mass = np.sum([atom.mass for atom in comp_pmd.atoms]) # Mass of the compound\n",
    "    #comp_mb.mass = comp_mass # Update mb compound's mass\n",
    "\n",
    "    #GAFF = foyer.forcefields.load_GAFF()\n",
    "    #comp_typed = GAFF.apply(comp_mb, assert_dihedral_params=False)\n",
    "    #for atom_pmd, atom_mb in zip(comp_typed, comp_mb):\n",
    "    #    atom_mb.name = \"{}\".format(atom_pmd.type)\n",
    "    return comp_mb\n",
    "\n",
    "def build_box(compound, num_compounds):\n",
    "    \n",
    "    #TO DO: Add, and use density parameter to determine box edge lengths\n",
    "    \n",
    "    GAFF = foyer.forcefields.load_GAFF()\n",
    "    box = mb.Box([10,10,10])\n",
    "    system_box = mb.packing.fill_box(compound, num_compounds, box=box)\n",
    "    system_box_pmd = system_box.to_parmed(box=box, infer_residues = True) # line 2347 of mbuild\n",
    "    # What is happening here that breaks the ff information?\n",
    "    system_box_pmd = GAFF.apply(system_box_pmd, assert_dihedral_params=False)\n",
    "    \n",
    "        # Why can't we start with an mbuild box of untyped compounds, then handle the typing here?\n",
    "        # What is different about applying the ff to the box, vs creating a box with already typed molecules?\n",
    "        # Where/How does Hoomd know which force field to use?\n",
    "    \n",
    "    return system_box_pmd\n",
    "\n",
    "def sim(system, steps, kT, tau):\n",
    "    log_quantities = ['temperature', 'pressure', 'volume', 'potential_energy', 'kinetic_energy']\n",
    "    create_hoomd_simulation(system, r_cut=1.2, auto_scale=True)\n",
    "    _all = hoomd.group.all()\n",
    "    hoomd.md.integrate.mode_standard(dt=0.0001)\n",
    "    integrator = hoomd.md.integrate.nvt(group=_all, kT=kT, tau=tau)\n",
    "    integrator.randomize_velocities(seed=42)\n",
    "    hoomd.analyze.log(\"trajectory.log\", log_quantities, period=500, overwrite=True)\n",
    "    hoomd.dump.gsd(\"start.gsd\", period=None, group=_all, overwrite=True)\n",
    "    hoomd.dump.gsd(\"traj.gsd\", period=1e3, group=_all, phase=0, overwrite=True)\n",
    "    hoomd.run(steps)\n",
    "    hoomd.dump.gsd(\"out.gsd\", period=None, group=_all, overwrite=True);\n",
    "\n"
   ]
  },
  {
   "cell_type": "code",
   "execution_count": 5,
   "metadata": {},
   "outputs": [
    {
     "name": "stderr",
     "output_type": "stream",
     "text": [
      "/home/chris/miniconda3/envs/mosdef-smiles/lib/python3.7/site-packages/openbabel/__init__.py:14: UserWarning: \"import openbabel\" is deprecated, instead use \"from openbabel import openbabel\"\n",
      "  warnings.warn('\"import openbabel\" is deprecated, instead use \"from openbabel import openbabel\"')\n",
      "/home/chris/cme/mbuild/mbuild/compound.py:2749: UserWarning: No unitcell detected for pybel.Molecule c1sccc1CCCCCC\t\n",
      "\n",
      "  warn(\"No unitcell detected for pybel.Molecule {}\".format(pybel_mol))\n",
      "/home/chris/cme/forks/foyer/foyer/forcefield.py:433: UserWarning: No force field version number found in force field XML file.\n",
      "  'No force field version number found in force field XML file.'\n",
      "/home/chris/cme/forks/foyer/foyer/forcefield.py:445: UserWarning: No force field name found in force field XML file.\n",
      "  'No force field name found in force field XML file.'\n",
      "/home/chris/cme/forks/foyer/foyer/validator.py:132: ValidationWarning: You have empty smart definition(s)\n",
      "  warn(\"You have empty smart definition(s)\", ValidationWarning)\n"
     ]
    },
    {
     "name": "stdout",
     "output_type": "stream",
     "text": [
      "HOOMD-blue 2.9.0 DOUBLE HPMC_MIXED TBB SSE SSE2 SSE3 \n",
      "Compiled: 02/04/2020\n",
      "Copyright (c) 2009-2019 The Regents of the University of Michigan.\n",
      "-----\n",
      "You are using HOOMD-blue. Please cite the following:\n",
      "* J A Anderson, C D Lorenz, and A Travesset. \"General purpose molecular dynamics\n",
      "  simulations fully implemented on graphics processing units\", Journal of\n",
      "  Computational Physics 227 (2008) 5342--5359\n",
      "* J Glaser, T D Nguyen, J A Anderson, P Lui, F Spiga, J A Millan, D C Morse, and\n",
      "  S C Glotzer. \"Strong scaling of general-purpose molecular dynamics simulations\n",
      "  on GPUs\", Computer Physics Communications 192 (2015) 97--107\n",
      "-----\n",
      "HOOMD-blue is running on the CPU\n",
      "notice(2): Group \"all\" created containing 810 particles\n",
      "notice(2): -- Neighborlist exclusion statistics -- :\n",
      "notice(2): Particles with 3 exclusions             : 90\n",
      "notice(2): Particles with 4 exclusions             : 390\n",
      "notice(2): Particles with 6 exclusions             : 90\n",
      "notice(2): Particles with 7 exclusions             : 60\n",
      "notice(2): Particles with 9 exclusions             : 30\n",
      "notice(2): Particles with 10 exclusions             : 150\n",
      "notice(2): Neighbors included by diameter          : no\n",
      "notice(2): Neighbors excluded when in the same body: no\n",
      "Processing LJ and QQ\n",
      "notice(2): Group \"charged\" created containing 0 particles\n",
      "No charged groups found, ignoring electrostatics\n",
      "Processing 1-4 interactions, adjusting neighborlist exclusions\n",
      "Processing harmonic bonds\n",
      "Processing harmonic angles\n",
      "Processing periodic torsions\n",
      "HOOMD SimulationContext updated from ParmEd Structure\n",
      "** starting run **\n",
      "Time 00:00:10 | Step 16727 / 300000 | TPS 1672.7 | ETA 00:02:49\n"
     ]
    },
    {
     "name": "stderr",
     "output_type": "stream",
     "text": [
      "/home/chris/cme/forks/foyer/foyer/forcefield.py:267: UserWarning: Parameters have not been assigned to all proper dihedrals. Total system dihedrals: 2010, Parameterized dihedrals: 1890. Note that if your system contains torsions of Ryckaert-Bellemans functional form, all of these torsions are processed as propers.\n",
      "  warnings.warn(msg)\n",
      "/home/chris/cme/forks/foyer/foyer/forcefield.py:267: UserWarning: Parameters have not been assigned to all impropers. Total system impropers: 840, Parameterized impropers: 0. Note that if your system contains torsions of Ryckaert-Bellemans functional form, all of these torsions are processed as propers\n",
      "  warnings.warn(msg)\n"
     ]
    },
    {
     "name": "stdout",
     "output_type": "stream",
     "text": [
      "Time 00:00:20 | Step 34436 / 300000 | TPS 1770.79 | ETA 00:02:29\n",
      "Time 00:00:30 | Step 51626 / 300000 | TPS 1718.96 | ETA 00:02:24\n",
      "Time 00:00:40 | Step 68818 / 300000 | TPS 1719.13 | ETA 00:02:14\n",
      "Time 00:00:50 | Step 85125 / 300000 | TPS 1630.65 | ETA 00:02:11\n",
      "Time 00:01:00 | Step 101872 / 300000 | TPS 1674.65 | ETA 00:01:58\n",
      "Time 00:01:10 | Step 118689 / 300000 | TPS 1681.7 | ETA 00:01:47\n",
      "Time 00:01:20 | Step 135334 / 300000 | TPS 1664.49 | ETA 00:01:38\n",
      "Time 00:01:30 | Step 153008 / 300000 | TPS 1767.34 | ETA 00:01:23\n",
      "Time 00:01:40 | Step 169669 / 300000 | TPS 1666.06 | ETA 00:01:18\n",
      "Time 00:01:50 | Step 186535 / 300000 | TPS 1686.57 | ETA 00:01:07\n",
      "Time 00:02:00 | Step 203937 / 300000 | TPS 1740.17 | ETA 00:00:55\n",
      "Time 00:02:10 | Step 220583 / 300000 | TPS 1664.59 | ETA 00:00:47\n",
      "Time 00:02:20 | Step 238012 / 300000 | TPS 1742.9 | ETA 00:00:35\n",
      "Time 00:02:30 | Step 254650 / 300000 | TPS 1663.77 | ETA 00:00:27\n",
      "Time 00:02:40 | Step 272144 / 300000 | TPS 1749.35 | ETA 00:00:15\n",
      "Time 00:02:50 | Step 289020 / 300000 | TPS 1687.55 | ETA 00:00:06\n",
      "Time 00:02:56 | Step 300000 / 300000 | TPS 1703.53 | ETA 00:00:00\n",
      "Average TPS: 1700.2\n",
      "---------\n",
      "-- Neighborlist stats:\n",
      "1 normal updates / 3000 forced updates / 0 dangerous updates\n",
      "n_neigh_min: 0 / n_neigh_max: 21 / n_neigh_avg: 6.54444\n",
      "shortest rebuild period: 88\n",
      "-- Cell list stats:\n",
      "Dimension: 17, 17, 17\n",
      "n_min    : 0 / n_max: 17 / n_avg: 0.164869\n",
      "** run complete **\n"
     ]
    }
   ],
   "source": [
    "p3ht = compound('c1sccc1CCCCCC')\n",
    "system = build_box(p3ht, 30)\n",
    "sim(system, steps=3e5, kT=1, tau=1)"
   ]
  },
  {
   "cell_type": "code",
   "execution_count": 47,
   "metadata": {},
   "outputs": [],
   "source": [
    "\n",
    "\n",
    "def rdf(gsd_file, types=['all'], num_frames=3, num_bins=10):\n",
    "    \n",
    "    gsd_file = gsd.fl.GSDFile(file, \"rb\", \"MyApp\", \"hoomd\", [1,0])\n",
    "    trajectory = gsd.hoomd.HOOMDTrajectory(gsd_file)\n",
    "    x, y, z = trajectory[-1].configuration.box[:3]\n",
    "    r_max = x // 2\n",
    "    freud_box = freud.box.Box(x, y, z)\n",
    "    rdf = freud.density.RDF(r_max, num_bins)\n",
    "    types = ['ss']\n",
    "    for i in range(1, num_frames):\n",
    "        frame = trajectory[-i]\n",
    "        if types[0] == 'all':\n",
    "            positions = frame.particles.position\n",
    "        else:\n",
    "            positions = []\n",
    "            for idx, type_id in enumerate(frame.particles.typeid):\n",
    "                if frame.particles.types[type_id] in types:\n",
    "                    positions.append(frame.particles.position[idx])\n",
    "\n",
    "        n_query = freud.locality.AABBQuery.from_system((freud_box, positions))\n",
    "        rdf.compute(n_query, reset=False)\n",
    "    x = rdf.bin_centers\n",
    "    y = rdf.rdf\n",
    "    return rdf\n"
   ]
  },
  {
   "cell_type": "code",
   "execution_count": 48,
   "metadata": {},
   "outputs": [
    {
     "data": {
      "text/plain": [
       "[<matplotlib.lines.Line2D at 0x7fa82c32b650>]"
      ]
     },
     "execution_count": 48,
     "metadata": {},
     "output_type": "execute_result"
    },
    {
     "data": {
      "image/png": "[encoded data removed]",
      "text/plain": [
       "<Figure size 432x288 with 1 Axes>"
      ]
     },
     "metadata": {
      "needs_background": "light"
     },
     "output_type": "display_data"
    }
   ],
   "source": [
    "plt.plot(x_data, y_data)"
   ]
  },
  {
   "cell_type": "code",
   "execution_count": 46,
   "metadata": {
    "scrolled": false
   },
   "outputs": [
    {
     "data": {
      "image/png": "[encoded data removed]",
      "text/plain": [
       "freud.density.RDF(bins=14, r_max=10.0, r_min=0.0)"
      ]
     },
     "execution_count": 46,
     "metadata": {},
     "output_type": "execute_result"
    }
   ],
   "source": [
    "rdf"
   ]
  },
  {
   "cell_type": "code",
   "execution_count": null,
   "metadata": {},
   "outputs": [],
   "source": []
  },
  {
   "cell_type": "code",
   "execution_count": 25,
   "metadata": {},
   "outputs": [
    {
     "ename": "ModuleNotFoundError",
     "evalue": "No module named 'fresnel'",
     "output_type": "error",
     "traceback": [
      "\u001b[0;31m---------------------------------------------------------\u001b[0m",
      "\u001b[0;31mModuleNotFoundError\u001b[0m     Traceback (most recent call last)",
      "\u001b[0;32m<ipython-input-25-1c6e09e2695b>\u001b[0m in \u001b[0;36m<module>\u001b[0;34m\u001b[0m\n\u001b[0;32m----> 1\u001b[0;31m \u001b[0;32mimport\u001b[0m \u001b[0mfresnel\u001b[0m\u001b[0;34m\u001b[0m\u001b[0;34m\u001b[0m\u001b[0m\n\u001b[0m\u001b[1;32m      2\u001b[0m \u001b[0mdevice\u001b[0m \u001b[0;34m=\u001b[0m \u001b[0mfresnel\u001b[0m\u001b[0;34m.\u001b[0m\u001b[0mDevice\u001b[0m\u001b[0;34m(\u001b[0m\u001b[0mmode\u001b[0m\u001b[0;34m=\u001b[0m\u001b[0;34m'cpu'\u001b[0m\u001b[0;34m)\u001b[0m\u001b[0;34m;\u001b[0m\u001b[0;34m\u001b[0m\u001b[0;34m\u001b[0m\u001b[0m\n\u001b[1;32m      3\u001b[0m \u001b[0mpreview_tracer\u001b[0m \u001b[0;34m=\u001b[0m \u001b[0mfresnel\u001b[0m\u001b[0;34m.\u001b[0m\u001b[0mtracer\u001b[0m\u001b[0;34m.\u001b[0m\u001b[0mPreview\u001b[0m\u001b[0;34m(\u001b[0m\u001b[0mdevice\u001b[0m\u001b[0;34m,\u001b[0m \u001b[0;36m300\u001b[0m\u001b[0;34m,\u001b[0m \u001b[0;36m300\u001b[0m\u001b[0;34m,\u001b[0m \u001b[0maa_level\u001b[0m\u001b[0;34m=\u001b[0m\u001b[0;36m3\u001b[0m\u001b[0;34m)\u001b[0m\u001b[0;34m\u001b[0m\u001b[0;34m\u001b[0m\u001b[0m\n\u001b[1;32m      4\u001b[0m \u001b[0mpath_tracer\u001b[0m \u001b[0;34m=\u001b[0m \u001b[0mfresnel\u001b[0m\u001b[0;34m.\u001b[0m\u001b[0mtracer\u001b[0m\u001b[0;34m.\u001b[0m\u001b[0mPath\u001b[0m\u001b[0;34m(\u001b[0m\u001b[0mdevice\u001b[0m\u001b[0;34m,\u001b[0m \u001b[0;36m300\u001b[0m\u001b[0;34m,\u001b[0m \u001b[0;36m300\u001b[0m\u001b[0;34m)\u001b[0m\u001b[0;34m\u001b[0m\u001b[0;34m\u001b[0m\u001b[0m\n\u001b[1;32m      5\u001b[0m \u001b[0mblue\u001b[0m \u001b[0;34m=\u001b[0m \u001b[0mfresnel\u001b[0m\u001b[0;34m.\u001b[0m\u001b[0mcolor\u001b[0m\u001b[0;34m.\u001b[0m\u001b[0mlinear\u001b[0m\u001b[0;34m(\u001b[0m\u001b[0;34m[\u001b[0m\u001b[0;36m0.25\u001b[0m\u001b[0;34m,\u001b[0m\u001b[0;36m0.5\u001b[0m\u001b[0;34m,\u001b[0m\u001b[0;36m1\u001b[0m\u001b[0;34m]\u001b[0m\u001b[0;34m)\u001b[0m\u001b[0;34m*\u001b[0m\u001b[0;36m0.9\u001b[0m\u001b[0;34m;\u001b[0m\u001b[0;34m\u001b[0m\u001b[0;34m\u001b[0m\u001b[0m\n",
      "\u001b[0;31mModuleNotFoundError\u001b[0m: No module named 'fresnel'"
     ]
    }
   ],
   "source": [
    "import fresnel\n",
    "device = fresnel.Device(mode='cpu');\n",
    "preview_tracer = fresnel.tracer.Preview(device, 300, 300, aa_level=3)\n",
    "path_tracer = fresnel.tracer.Path(device, 300, 300)\n",
    "blue = fresnel.color.linear([0.25,0.5,1])*0.9;\n",
    "orange = fresnel.color.linear([1.0,0.714,0.169])*0.9\n",
    "green = fresnel.color.linear([0.50,0.50,0.169])\n",
    "red = fresnel.color.linear([0.64,0.33,.2126]);\n",
    "\n",
    "def render_sphere_frame(frame, height=None):\n",
    "\n",
    "    if height is None:\n",
    "        if hasattr(frame, 'configuration'):\n",
    "            Ly = frame.configuration.box[1]\n",
    "            height = Ly * math.sqrt(3)\n",
    "        else:\n",
    "            Ly = frame.box.Ly;\n",
    "            height = Ly * math.sqrt(3)\n",
    "\n",
    "    scene = fresnel.Scene(device)\n",
    "    scene.lights = fresnel.light.cloudy();\n",
    "    g = fresnel.geometry.Sphere(scene, position=frame.particles.position, radius=numpy.ones(frame.particles.N)*0.5)\n",
    "    g.material = fresnel.material.Material(solid=0.0, color=blue, primitive_color_mix=1.0, specular=1.0, roughness=0.2)\n",
    "    g.outline_width = 0.07\n",
    "    scene.camera = fresnel.camera.orthographic(position=(height, height, height), look_at=(0,0,0), up=(0,1,0), height=height)\n",
    "\n",
    "    g.color[frame.particles.typeid == 0] = blue;\n",
    "    g.color[frame.particles.typeid == 1] = orange;\n",
    "    g.color[frame.particles.typeid == 2] = green;\n",
    "    g.color[frame.particles.typeid == 3] = red;\n",
    "\n",
    "    scene.background_color = (1,1,1)\n",
    "\n",
    "    return path_tracer.sample(scene, samples=64, light_samples=20)"
   ]
  },
  {
   "cell_type": "code",
   "execution_count": null,
   "metadata": {},
   "outputs": [],
   "source": []
  },
  {
   "cell_type": "code",
   "execution_count": null,
   "metadata": {},
   "outputs": [],
   "source": []
  },
  {
   "cell_type": "code",
   "execution_count": null,
   "metadata": {},
   "outputs": [],
   "source": []
  },
  {
   "cell_type": "code",
   "execution_count": null,
   "metadata": {},
   "outputs": [],
   "source": []
  },
  {
   "cell_type": "code",
   "execution_count": null,
   "metadata": {},
   "outputs": [],
   "source": []
  },
  {
   "cell_type": "code",
   "execution_count": null,
   "metadata": {},
   "outputs": [],
   "source": []
  },
  {
   "cell_type": "code",
   "execution_count": null,
   "metadata": {},
   "outputs": [],
   "source": []
  },
  {
   "cell_type": "code",
   "execution_count": null,
   "metadata": {},
   "outputs": [],
   "source": []
  },
  {
   "cell_type": "code",
   "execution_count": null,
   "metadata": {},
   "outputs": [],
   "source": []
  }
 ],
 "metadata": {
  "kernelspec": {
   "display_name": "Python 3",
   "language": "python",
   "name": "python3"
  },
  "language_info": {
   "codemirror_mode": {
    "name": "ipython",
    "version": 3
   },
   "file_extension": ".py",
   "mimetype": "text/x-python",
   "name": "python",
   "nbconvert_exporter": "python",
   "pygments_lexer": "ipython3",
   "version": "3.7.6"
  }
 },
 "nbformat": 4,
 "nbformat_minor": 4
}
