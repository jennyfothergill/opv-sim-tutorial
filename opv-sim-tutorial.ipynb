{
 "cells": [
  {
   "cell_type": "code",
   "execution_count": 1,
   "metadata": {},
   "outputs": [],
   "source": [
    "import numpy as np\n",
    "import parmed as pmd\n",
    "\n",
    "# MosDef stuff\n",
    "import foyer\n",
    "from foyer import Forcefield\n",
    "#import hoomd\n",
    "import mbuild as mb\n",
    "\n",
    "# Planckton stuff\n",
    "#from planckton.init import Compound, Pack\n",
    "#from planckton.sim import Simulation\n",
    "#from planckton.compounds import COMPOUND_FILE\n",
    "#from planckton.force_fields import FORCE_FIELD"
   ]
  },
  {
   "cell_type": "code",
   "execution_count": 4,
   "metadata": {},
   "outputs": [],
   "source": [
    "def compound(smiles_string):\n",
    "    \n",
    "    comp_mb = mb.load(p3ht_smi, smiles = True) # mbuild compound\n",
    "    comp_pmd = comp_mb.to_parmed() #parmed compound\n",
    "    comp_mass = np.sum([atom.mass for atom in comp_pmd.atoms]) # Mass of the compound\n",
    "    comp_mb.mass = comp_mass # Update mb compound's mass\n",
    "\n",
    "    GAFF = foyer.forcefields.load_GAFF()\n",
    "    comp_typed = GAFF.apply(comp_pmd, assert_dihedral_params=False)\n",
    "    for atom_pmd, atom_mb in zip(comp_typed, comp_mb):\n",
    "        atom_mb.name = \"_{}\".format(atom_pmd.type)\n",
    "\n",
    "    return comp_typed\n",
    "\n",
    "def build_box(compound, num_compounds, density):\n",
    "        \n",
    "        pass"
   ]
  },
  {
   "cell_type": "code",
   "execution_count": null,
   "metadata": {},
   "outputs": [],
   "source": []
  },
  {
   "cell_type": "code",
   "execution_count": 5,
   "metadata": {},
   "outputs": [
    {
     "name": "stderr",
     "output_type": "stream",
     "text": [
      "/home/chris/miniconda3/envs/mosdef-smiles/lib/python3.7/site-packages/openbabel/__init__.py:14: UserWarning: \"import openbabel\" is deprecated, instead use \"from openbabel import openbabel\"\n",
      "  warnings.warn('\"import openbabel\" is deprecated, instead use \"from openbabel import openbabel\"')\n",
      "/home/chris/cme/mbuild/mbuild/compound.py:2749: UserWarning: No unitcell detected for pybel.Molecule c1sccc1CCCCCC\t\n",
      "\n",
      "  warn(\"No unitcell detected for pybel.Molecule {}\".format(pybel_mol))\n",
      "/home/chris/cme/forks/foyer/foyer/validator.py:132: ValidationWarning: You have empty smart definition(s)\n",
      "  warn(\"You have empty smart definition(s)\", ValidationWarning)\n",
      "/home/chris/cme/forks/foyer/foyer/forcefield.py:248: UserWarning: Parameters have not been assigned to all proper dihedrals. Total system dihedrals: 67, Parameterized dihedrals: 63. Note that if your system contains torsions of Ryckaert-Bellemans functional form, all of these torsions are processed as propers.\n",
      "  warnings.warn(msg)\n",
      "/home/chris/cme/forks/foyer/foyer/forcefield.py:248: UserWarning: Parameters have not been assigned to all impropers. Total system impropers: 28, Parameterized impropers: 0. Note that if your system contains torsions of Ryckaert-Bellemans functional form, all of these torsions are processed as propers\n",
      "  warnings.warn(msg)\n"
     ]
    }
   ],
   "source": [
    "'''\n",
    "These steps below are essentially trying to recreate the process in planckton/placnkton/init.py\n",
    "The goal is to start with a smiles string rather than an already typed .mol2 file\n",
    "'''\n",
    "# COMPOUND: \n",
    "\n",
    "# Set up compound\n",
    "p3ht_smi = 'c1sccc1CCCCCC'\n",
    "comp_mb = mb.load(p3ht_smi, smiles = True) # mbuild compound\n",
    "\n",
    "# Find compound mass\n",
    "comp_pmd = comp_mb.to_parmed() #parmed compound\n",
    "comp_mass = np.sum([atom.mass for atom in comp_pmd.atoms]) # Mass of the compound\n",
    "comp_mb.mass = comp_mass # Update mb compound's mass\n",
    "\n",
    "# Atom typing step ???\n",
    "# At this point in Planckton, it is already using a typed mol2 file (via manual antechamber step)\n",
    "# comp_pmd should eventually contain information about the atom types - How do we do that via foyer?\n",
    "\n",
    "GAFF = foyer.forcefields.load_GAFF()\n",
    "comp_pmd_typed = GAFF.apply(comp_pmd, assert_dihedral_params=False)\n",
    "\n",
    "# Rename atom types - Issue: at this point in Planckton we're already started with a typed compound\n",
    "for atom_pmd, atom_mb in zip(comp_pmd, comp_mb):\n",
    "    atom_mb.name = \"_{}\".format(atom_pmd.type)  # Renaming mb comp atom names from atom types of parmed compound\n"
   ]
  },
  {
   "cell_type": "code",
   "execution_count": null,
   "metadata": {},
   "outputs": [],
   "source": [
    "# CREATE A SIMULATION VOLUME (MBUILD BOX)\n",
    "\n",
    "\n"
   ]
  },
  {
   "cell_type": "code",
   "execution_count": 12,
   "metadata": {},
   "outputs": [
    {
     "name": "stdout",
     "output_type": "stream",
     "text": [
      "False\n"
     ]
    }
   ],
   "source": [
    "list1 = ['a', 'a']\n",
    "#list1 = ['a']\n",
    "#list1 = 'a'\n",
    "if not isinstance(list1, (list, set)):\n",
    "    print('True')\n",
    "    \n",
    "else:\n",
    "    print('False')"
   ]
  },
  {
   "cell_type": "code",
   "execution_count": null,
   "metadata": {},
   "outputs": [],
   "source": []
  },
  {
   "cell_type": "code",
   "execution_count": null,
   "metadata": {},
   "outputs": [],
   "source": []
  },
  {
   "cell_type": "code",
   "execution_count": null,
   "metadata": {},
   "outputs": [],
   "source": []
  },
  {
   "cell_type": "code",
   "execution_count": null,
   "metadata": {},
   "outputs": [],
   "source": []
  },
  {
   "cell_type": "code",
   "execution_count": null,
   "metadata": {},
   "outputs": [],
   "source": []
  }
 ],
 "metadata": {
  "kernelspec": {
   "display_name": "Python 3",
   "language": "python",
   "name": "python3"
  },
  "language_info": {
   "codemirror_mode": {
    "name": "ipython",
    "version": 3
   },
   "file_extension": ".py",
   "mimetype": "text/x-python",
   "name": "python",
   "nbconvert_exporter": "python",
   "pygments_lexer": "ipython3",
   "version": "3.7.6"
  }
 },
 "nbformat": 4,
 "nbformat_minor": 4
}
