{
 "cells": [
  {
   "cell_type": "code",
   "execution_count": 2,
   "metadata": {},
   "outputs": [],
   "source": [
    "import numpy as np\n",
    "import parmed as pmd\n",
    "\n",
    "# MosDef packages\n",
    "import foyer\n",
    "from foyer import Forcefield\n",
    "#import hoomd\n",
    "import mbuild as mb\n",
    "\n"
   ]
  },
  {
   "cell_type": "code",
   "execution_count": 3,
   "metadata": {},
   "outputs": [],
   "source": [
    "# User inputs"
   ]
  },
  {
   "cell_type": "code",
   "execution_count": 34,
   "metadata": {},
   "outputs": [],
   "source": [
    "def compound(smiles_string):\n",
    "    \n",
    "    comp_mb = mb.load(smiles_string, smiles = True) # creates an mbuild compound instance\n",
    "    comp_pmd = comp_mb.to_parmed() # convert the mbuild compound to a parmed compound\n",
    "    comp_mass = np.sum([atom.mass for atom in comp_pmd.atoms]) # Mass of the compound\n",
    "    comp_mb.mass = comp_mass # Update mb compound's mass\n",
    "\n",
    "    GAFF = foyer.forcefields.load_GAFF()\n",
    "    comp_typed = GAFF.apply(comp_mb, assert_dihedral_params=False)\n",
    "    for atom_pmd, atom_mb in zip(comp_typed, comp_mb):\n",
    "        atom_mb.name = \"{}\".format(atom_pmd.type)\n",
    "    return comp_mb\n",
    "\n",
    "def build_box(compound, num_compounds):\n",
    "    \n",
    "    #TO DO: Add, and use density parameter to determine box edge lengths\n",
    "    \n",
    "    box = mb.Box([10,10,10])\n",
    "    system_box = mb.packing.fill_box(compound, num_compounds)\n",
    "    system_box_pmd = system_box.to_parmed(box=box)\n",
    "    system = GAFF.apply(system_box_pmd, assert_dihedral_params=False)\n",
    "    \n",
    "        # Why can't we start with an mbuild box of untyped compounds, then handle the typing here?\n",
    "        # What is different about applying the ff to the box, vs creating a box with already typed molecules?\n",
    "        # Where/How does Hoomd know which force field to use?\n",
    "    \n",
    "    return system\n",
    "\n",
    "def sim():\n",
    "    hoomd.context.initialize()\n",
    "    pass"
   ]
  },
  {
   "cell_type": "code",
   "execution_count": null,
   "metadata": {},
   "outputs": [],
   "source": [
    "from mbuild.formats.hoomd_simulation import create_hoomd_simulation\n",
    "import hoomd\n",
    "import hoomd.md\n",
    "import hoomd.group\n",
    "\n",
    "# No more context.initialize()??\n",
    "create_hoomd_simulation(\n",
    "    system, r_cut=1.2, auto_scale=True\n",
    ")\n",
    "\n",
    "_all = hoomd.group.all()\n",
    "hoomd.md.integrate.mode_standard(dt=0.0001)\n",
    "integrator = hoomd.md.integrate.nvt(group=_all, kT=1.0, tau=1)\n",
    "hoomd.dump.gsd(\"start.gsd\", period=None, group=_all, overwrite=True)\n",
    "hoomd.dump.gsd(\"traj.gsd\", period=1e5, group=_all, phase=0, overwrite=True)\n",
    "\n",
    "hoomd.run(1e3)\n",
    "hoomd.dump.gsd(\"out.gsd\", period=None, group=_all, overwrite=True);"
   ]
  },
  {
   "cell_type": "code",
   "execution_count": null,
   "metadata": {},
   "outputs": [],
   "source": []
  },
  {
   "cell_type": "code",
   "execution_count": null,
   "metadata": {},
   "outputs": [],
   "source": []
  },
  {
   "cell_type": "code",
   "execution_count": null,
   "metadata": {},
   "outputs": [],
   "source": []
  },
  {
   "cell_type": "code",
   "execution_count": null,
   "metadata": {},
   "outputs": [],
   "source": []
  },
  {
   "cell_type": "code",
   "execution_count": null,
   "metadata": {},
   "outputs": [],
   "source": []
  },
  {
   "cell_type": "code",
   "execution_count": null,
   "metadata": {},
   "outputs": [],
   "source": []
  },
  {
   "cell_type": "code",
   "execution_count": null,
   "metadata": {},
   "outputs": [],
   "source": []
  },
  {
   "cell_type": "code",
   "execution_count": null,
   "metadata": {},
   "outputs": [],
   "source": []
  },
  {
   "cell_type": "code",
   "execution_count": null,
   "metadata": {},
   "outputs": [],
   "source": []
  },
  {
   "cell_type": "code",
   "execution_count": null,
   "metadata": {},
   "outputs": [],
   "source": []
  },
  {
   "cell_type": "code",
   "execution_count": null,
   "metadata": {},
   "outputs": [],
   "source": []
  },
  {
   "cell_type": "code",
   "execution_count": null,
   "metadata": {},
   "outputs": [],
   "source": []
  }
 ],
 "metadata": {
  "kernelspec": {
   "display_name": "Python 3",
   "language": "python",
   "name": "python3"
  },
  "language_info": {
   "codemirror_mode": {
    "name": "ipython",
    "version": 3
   },
   "file_extension": ".py",
   "mimetype": "text/x-python",
   "name": "python",
   "nbconvert_exporter": "python",
   "pygments_lexer": "ipython3",
   "version": "3.7.6"
  }
 },
 "nbformat": 4,
 "nbformat_minor": 4
}
