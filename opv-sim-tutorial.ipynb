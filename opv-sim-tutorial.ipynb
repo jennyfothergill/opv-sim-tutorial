{
 "cells": [
  {
   "cell_type": "code",
   "execution_count": 1,
   "metadata": {},
   "outputs": [
    {
     "name": "stderr",
     "output_type": "stream",
     "text": [
      "/home/chris/miniconda3/envs/mosdef-smiles/lib/python3.7/site-packages/hoomd/meta.py:26: DeprecationWarning: Using or importing the ABCs from 'collections' instead of from 'collections.abc' is deprecated since Python 3.3,and in 3.9 it will stop working\n",
      "  from collections import Mapping\n"
     ]
    }
   ],
   "source": [
    "import numpy as np\n",
    "import parmed as pmd\n",
    "\n",
    "# MosDef packages\n",
    "import foyer\n",
    "from foyer import Forcefield\n",
    "import mbuild as mb\n",
    "from mbuild.formats.hoomd_simulation import create_hoomd_simulation\n",
    "import hoomd\n",
    "import hoomd.md\n",
    "import hoomd.group"
   ]
  },
  {
   "cell_type": "code",
   "execution_count": 2,
   "metadata": {},
   "outputs": [],
   "source": [
    "# User inputs"
   ]
  },
  {
   "cell_type": "code",
   "execution_count": 3,
   "metadata": {},
   "outputs": [],
   "source": [
    "def compound(smiles_string):\n",
    "    \n",
    "    comp_mb = mb.load(smiles_string, smiles = True) # creates an mbuild compound instance\n",
    "    #comp_pmd = comp_mb.to_parmed() # convert the mbuild compound to a parmed compound\n",
    "    #comp_mass = np.sum([atom.mass for atom in comp_pmd.atoms]) # Mass of the compound\n",
    "    #comp_mb.mass = comp_mass # Update mb compound's mass\n",
    "\n",
    "    #GAFF = foyer.forcefields.load_GAFF()\n",
    "    #comp_typed = GAFF.apply(comp_mb, assert_dihedral_params=False)\n",
    "    #for atom_pmd, atom_mb in zip(comp_typed, comp_mb):\n",
    "    #    atom_mb.name = \"{}\".format(atom_pmd.type)\n",
    "    return comp_mb\n",
    "\n",
    "def build_box(compound, num_compounds):\n",
    "    \n",
    "    #TO DO: Add, and use density parameter to determine box edge lengths\n",
    "    \n",
    "    GAFF = foyer.forcefields.load_GAFF()\n",
    "    box = mb.Box([10,10,10])\n",
    "    system_box = mb.packing.fill_box(compound, num_compounds, box=box)\n",
    "    system_box_pmd = system_box.to_parmed(box=box, infer_residues = True) # line 2347 of mbuild\n",
    "    # What is happening here that breaks the ff information?\n",
    "    system_box_pmd = GAFF.apply(system_box_pmd, assert_dihedral_params=False)\n",
    "    \n",
    "        # Why can't we start with an mbuild box of untyped compounds, then handle the typing here?\n",
    "        # What is different about applying the ff to the box, vs creating a box with already typed molecules?\n",
    "        # Where/How does Hoomd know which force field to use?\n",
    "    \n",
    "    return system_box_pmd\n",
    "\n",
    "def sim(system, steps, kT, tau):\n",
    "    log_quantities = ['temperature', 'pressure', 'volume', 'potential_energy', 'kinetic_energy']\n",
    "    create_hoomd_simulation(system, r_cut=1.2, auto_scale=True)\n",
    "    _all = hoomd.group.all()\n",
    "    hoomd.md.integrate.mode_standard(dt=0.0001)\n",
    "    integrator = hoomd.md.integrate.nvt(group=_all, kT=kT, tau=tau)\n",
    "    integrator.randomize_velocities(seed=42)\n",
    "    hoomd.analyze.log(\"trajectory.log\", log_quantities, period=500, overwrite=True)\n",
    "    hoomd.dump.gsd(\"start.gsd\", period=None, group=_all, overwrite=True)\n",
    "    hoomd.dump.gsd(\"traj.gsd\", period=1e3, group=_all, phase=0, overwrite=True)\n",
    "    hoomd.run(steps)\n",
    "    hoomd.dump.gsd(\"out.gsd\", period=None, group=_all, overwrite=True);"
   ]
  },
  {
   "cell_type": "code",
   "execution_count": 4,
   "metadata": {},
   "outputs": [
    {
     "name": "stderr",
     "output_type": "stream",
     "text": [
      "/home/chris/miniconda3/envs/mosdef-smiles/lib/python3.7/site-packages/openbabel/__init__.py:14: UserWarning: \"import openbabel\" is deprecated, instead use \"from openbabel import openbabel\"\n",
      "  warnings.warn('\"import openbabel\" is deprecated, instead use \"from openbabel import openbabel\"')\n",
      "/home/chris/cme/mbuild/mbuild/compound.py:2749: UserWarning: No unitcell detected for pybel.Molecule c1sccc1\t\n",
      "\n",
      "  warn(\"No unitcell detected for pybel.Molecule {}\".format(pybel_mol))\n",
      "/home/chris/cme/forks/foyer/foyer/forcefield.py:433: UserWarning: No force field version number found in force field XML file.\n",
      "  'No force field version number found in force field XML file.'\n",
      "/home/chris/cme/forks/foyer/foyer/forcefield.py:445: UserWarning: No force field name found in force field XML file.\n",
      "  'No force field name found in force field XML file.'\n",
      "/home/chris/cme/forks/foyer/foyer/validator.py:132: ValidationWarning: You have empty smart definition(s)\n",
      "  warn(\"You have empty smart definition(s)\", ValidationWarning)\n"
     ]
    },
    {
     "name": "stdout",
     "output_type": "stream",
     "text": [
      "HOOMD-blue 2.9.0 DOUBLE HPMC_MIXED TBB SSE SSE2 SSE3 \n",
      "Compiled: 02/04/2020\n",
      "Copyright (c) 2009-2019 The Regents of the University of Michigan.\n",
      "-----\n",
      "You are using HOOMD-blue. Please cite the following:\n",
      "* J A Anderson, C D Lorenz, and A Travesset. \"General purpose molecular dynamics\n",
      "  simulations fully implemented on graphics processing units\", Journal of\n",
      "  Computational Physics 227 (2008) 5342--5359\n",
      "* J Glaser, T D Nguyen, J A Anderson, P Lui, F Spiga, J A Millan, D C Morse, and\n",
      "  S C Glotzer. \"Strong scaling of general-purpose molecular dynamics simulations\n",
      "  on GPUs\", Computer Physics Communications 192 (2015) 97--107\n",
      "-----\n",
      "HOOMD-blue is running on the CPU\n",
      "notice(2): Group \"all\" created containing 90 particles\n",
      "notice(2): -- Neighborlist exclusion statistics -- :\n",
      "notice(2): Particles with 3 exclusions             : 40\n",
      "notice(2): Particles with 6 exclusions             : 30\n",
      "notice(2): Particles with 7 exclusions             : 20\n",
      "notice(2): Neighbors included by diameter          : no\n",
      "notice(2): Neighbors excluded when in the same body: no\n",
      "Processing LJ and QQ\n",
      "notice(2): Group \"charged\" created containing 0 particles\n",
      "No charged groups found, ignoring electrostatics\n",
      "Processing 1-4 interactions, adjusting neighborlist exclusions\n",
      "Processing harmonic bonds\n",
      "Processing harmonic angles\n",
      "Processing periodic torsions\n",
      "HOOMD SimulationContext updated from ParmEd Structure\n",
      "** starting run **\n",
      "Time 00:00:10 | Step 137924 / 200000 | TPS 13792.4 | ETA 00:00:04\n"
     ]
    },
    {
     "name": "stderr",
     "output_type": "stream",
     "text": [
      "/home/chris/cme/forks/foyer/foyer/forcefield.py:267: UserWarning: Parameters have not been assigned to all proper dihedrals. Total system dihedrals: 160, Parameterized dihedrals: 120. Note that if your system contains torsions of Ryckaert-Bellemans functional form, all of these torsions are processed as propers.\n",
      "  warnings.warn(msg)\n",
      "/home/chris/cme/forks/foyer/foyer/forcefield.py:267: UserWarning: Parameters have not been assigned to all impropers. Total system impropers: 40, Parameterized impropers: 0. Note that if your system contains torsions of Ryckaert-Bellemans functional form, all of these torsions are processed as propers\n",
      "  warnings.warn(msg)\n"
     ]
    },
    {
     "name": "stdout",
     "output_type": "stream",
     "text": [
      "Time 00:00:14 | Step 200000 / 200000 | TPS 14438 | ETA 00:00:00\n",
      "Average TPS: 13985.7\n",
      "---------\n",
      "-- Neighborlist stats:\n",
      "0 normal updates / 2000 forced updates / 0 dangerous updates\n",
      "n_neigh_min: 0 / n_neigh_max: 5 / n_neigh_avg: 1.55556\n",
      "shortest rebuild period: 100\n",
      "-- Cell list stats:\n",
      "Dimension: 17, 17, 17\n",
      "n_min    : 0 / n_max: 8 / n_avg: 0.0183187\n",
      "** run complete **\n"
     ]
    }
   ],
   "source": [
    "p3ht = compound('c1sccc1')\n",
    "system = build_box(p3ht, 10)\n",
    "sim(system, steps=2e5, kT=1, tau=1)"
   ]
  },
  {
   "cell_type": "code",
   "execution_count": null,
   "metadata": {},
   "outputs": [],
   "source": []
  },
  {
   "cell_type": "code",
   "execution_count": 11,
   "metadata": {},
   "outputs": [
    {
     "name": "stdout",
     "output_type": "stream",
     "text": [
      "HOOMD-blue 2.9.0 DOUBLE HPMC_MIXED TBB SSE SSE2 SSE3 \n",
      "Compiled: 02/04/2020\n",
      "Copyright (c) 2009-2019 The Regents of the University of Michigan.\n",
      "-----\n",
      "You are using HOOMD-blue. Please cite the following:\n",
      "* J A Anderson, C D Lorenz, and A Travesset. \"General purpose molecular dynamics\n",
      "  simulations fully implemented on graphics processing units\", Journal of\n",
      "  Computational Physics 227 (2008) 5342--5359\n",
      "* J Glaser, T D Nguyen, J A Anderson, P Lui, F Spiga, J A Millan, D C Morse, and\n",
      "  S C Glotzer. \"Strong scaling of general-purpose molecular dynamics simulations\n",
      "  on GPUs\", Computer Physics Communications 192 (2015) 97--107\n",
      "-----\n",
      "HOOMD-blue is running on the CPU\n",
      "notice(2): Group \"all\" created containing 270 particles\n",
      "notice(2): -- Neighborlist exclusion statistics -- :\n",
      "notice(2): Particles with 3 exclusions             : 30\n",
      "notice(2): Particles with 4 exclusions             : 130\n",
      "notice(2): Particles with 6 exclusions             : 30\n",
      "notice(2): Particles with 7 exclusions             : 20\n",
      "notice(2): Particles with 9 exclusions             : 10\n",
      "notice(2): Particles with 10 exclusions             : 50\n",
      "notice(2): Neighbors included by diameter          : no\n",
      "notice(2): Neighbors excluded when in the same body: no\n",
      "HOOMD SimulationContext updated from ParmEd Structure\n",
      "** starting run **\n",
      "Time 00:00:00 | Step 100000 / 100000 | TPS 102221 | ETA 00:00:00\n"
     ]
    },
    {
     "name": "stderr",
     "output_type": "stream",
     "text": [
      "/home/chris/cme/mbuild/mbuild/formats/hoomd_snapshot.py:86: RuntimeWarning: divide by zero encountered in true_divide\n",
      "  lx,ly,lz = structure.box[:3]/ref_distance\n",
      "/home/chris/cme/mbuild/mbuild/formats/hoomd_snapshot.py:159: RuntimeWarning: divide by zero encountered in true_divide\n",
      "  scaled_positions = xyz/ref_distance\n",
      "/home/chris/cme/mbuild/mbuild/formats/hoomd_snapshot.py:180: RuntimeWarning: invalid value encountered in true_divide\n",
      "  scaled_charges = charges / charge_factor\n"
     ]
    },
    {
     "name": "stdout",
     "output_type": "stream",
     "text": [
      "Average TPS: 102113\n",
      "---------\n",
      "-- Neighborlist stats:\n",
      "0 normal updates / 0 forced updates / 0 dangerous updates\n",
      "n_neigh_min: 0 / n_neigh_max: 0 / n_neigh_avg: 0\n",
      "shortest rebuild period: 100\n",
      "-- Cell list stats:\n",
      "Dimension: 0, 0, 0\n",
      "** run complete **\n"
     ]
    }
   ],
   "source": [
    "from mbuild.formats.hoomd_simulation import create_hoomd_simulation\n",
    "import hoomd\n",
    "import hoomd.md\n",
    "import hoomd.group\n",
    "\n",
    "# No more context.initialize()??\n",
    "create_hoomd_simulation(\n",
    "    system, r_cut=1.2, auto_scale=True\n",
    ")\n",
    "\n",
    "_all = hoomd.group.all()\n",
    "hoomd.md.integrate.mode_standard(dt=0.0001)\n",
    "integrator = hoomd.md.integrate.nvt(group=_all, kT=1.0, tau=1)\n",
    "hoomd.dump.gsd(\"start.gsd\", period=None, group=_all, overwrite=True)\n",
    "hoomd.dump.gsd(\"traj.gsd\", period=1e5, group=_all, phase=0, overwrite=True)\n",
    "\n",
    "hoomd.run(1e5)\n",
    "hoomd.dump.gsd(\"out.gsd\", period=None, group=_all, overwrite=True);"
   ]
  },
  {
   "cell_type": "code",
   "execution_count": null,
   "metadata": {},
   "outputs": [],
   "source": []
  },
  {
   "cell_type": "code",
   "execution_count": null,
   "metadata": {},
   "outputs": [],
   "source": []
  },
  {
   "cell_type": "code",
   "execution_count": null,
   "metadata": {},
   "outputs": [],
   "source": []
  },
  {
   "cell_type": "code",
   "execution_count": null,
   "metadata": {},
   "outputs": [],
   "source": []
  },
  {
   "cell_type": "code",
   "execution_count": null,
   "metadata": {},
   "outputs": [],
   "source": []
  },
  {
   "cell_type": "code",
   "execution_count": null,
   "metadata": {},
   "outputs": [],
   "source": []
  },
  {
   "cell_type": "code",
   "execution_count": null,
   "metadata": {},
   "outputs": [],
   "source": []
  },
  {
   "cell_type": "code",
   "execution_count": null,
   "metadata": {},
   "outputs": [],
   "source": []
  },
  {
   "cell_type": "code",
   "execution_count": null,
   "metadata": {},
   "outputs": [],
   "source": []
  },
  {
   "cell_type": "code",
   "execution_count": null,
   "metadata": {},
   "outputs": [],
   "source": []
  },
  {
   "cell_type": "code",
   "execution_count": null,
   "metadata": {},
   "outputs": [],
   "source": []
  },
  {
   "cell_type": "code",
   "execution_count": null,
   "metadata": {},
   "outputs": [],
   "source": []
  }
 ],
 "metadata": {
  "kernelspec": {
   "display_name": "Python 3",
   "language": "python",
   "name": "python3"
  },
  "language_info": {
   "codemirror_mode": {
    "name": "ipython",
    "version": 3
   },
   "file_extension": ".py",
   "mimetype": "text/x-python",
   "name": "python",
   "nbconvert_exporter": "python",
   "pygments_lexer": "ipython3",
   "version": "3.7.6"
  }
 },
 "nbformat": 4,
 "nbformat_minor": 4
}
